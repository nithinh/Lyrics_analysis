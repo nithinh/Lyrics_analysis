{
 "cells": [
  {
   "cell_type": "code",
   "execution_count": 3,
   "metadata": {},
   "outputs": [],
   "source": [
    "import billboard\n",
    "import time\n",
    "import pandas as pd\n",
    "import pickle"
   ]
  },
  {
   "cell_type": "markdown",
   "metadata": {},
   "source": [
    "## Scraper"
   ]
  },
  {
   "cell_type": "markdown",
   "metadata": {},
   "source": [
    "To obtain song lyrics, we first need to obtain a plethora of song names. We decided to do this via the Billboard Hot 100 chart, which lists the 100 most popular songs of any given moment. \n",
    "\n",
    "The next step is then to scrape the lyrics. Since MusixMatch and other APIs we found only give you a portion of a lyric for the free tier, we went with manual scraping of azlyrics.com. "
   ]
  },
  {
   "cell_type": "markdown",
   "metadata": {},
   "source": [
    "### Song titles"
   ]
  },
  {
   "cell_type": "markdown",
   "metadata": {},
   "source": [
    "We use the `billboard100.py` package to grab the most popular songs of the last few decades. You can install it using `pip`:"
   ]
  },
  {
   "cell_type": "markdown",
   "metadata": {},
   "source": [
    "`$ pip install billboard100.py`"
   ]
  },
  {
   "cell_type": "markdown",
   "metadata": {},
   "source": [
    "The goal is to scrape about 10,000 songs, so that we give ourselves enough room for error regarding a satisfactory number of training examples; since both this package and the lyrics scraper are not \"true apis\" and simply make HTTP references, we can't be sure that our processes have a 100% recall rate. In any case, we have below the code to scrape song names. Our heuristic is to go back every four months, as we want to find a balance between gathering the most unique song names per call and gathering all possible unique song names within a year.  "
   ]
  },
  {
   "cell_type": "markdown",
   "metadata": {},
   "source": [
    "We first have the code below to save the current unique songs dictionary, in case of errors and crashes:"
   ]
  },
  {
   "cell_type": "code",
   "execution_count": 5,
   "metadata": {},
   "outputs": [],
   "source": [
    "def save_dict(songs_dict):\n",
    "    f = open(\"songs_dict.pkl\", 'wb')\n",
    "    pickle.dump(songs_dict, f)\n",
    "    f.close()"
   ]
  },
  {
   "cell_type": "markdown",
   "metadata": {},
   "source": [
    "Next, we have code to save the dictionary as a csv, to be processed and used to scrape lyrics:"
   ]
  },
  {
   "cell_type": "code",
   "execution_count": 6,
   "metadata": {},
   "outputs": [],
   "source": [
    "def songs_to_csv(songs_dict):\n",
    "    songs = songs_dict.keys()\n",
    "    songs1 = [song for song in songs]\n",
    "    artists = [songs_dict[song][0] for song in songs]\n",
    "    weeks = [songs_dict[song][1] for song in songs]\n",
    "    poss = [songs_dict[song][2] for song in songs]\n",
    "\n",
    "    songs_df = pd.DataFrame({'songs' : songs1, 'artists' : artists, 'weeks' : weeks, 'peak position' : poss})\n",
    "    songs_df.to_csv(\"songs_list.csv\", index=False)"
   ]
  },
  {
   "cell_type": "markdown",
   "metadata": {},
   "source": [
    "Finally, we have the main loop of the function, which gathers songs from past Billboard Hot 100 charts. We have here a try and except statement in case of an HTTP error with too many requests:"
   ]
  },
  {
   "cell_type": "code",
   "execution_count": null,
   "metadata": {},
   "outputs": [],
   "source": [
    "def get_billboard_100(iterations, year=2019, month='11', day=20, dict_file='songs_dict.pkl'):\n",
    "    songs = dict()\n",
    "\n",
    "    temp_year = year\n",
    "    temp_month = month\n",
    "    date = str(temp_year) + '-' + temp_month + '-' + str(day)\n",
    "\n",
    "    chart = billboard.ChartData('hot-100')\n",
    "    \n",
    "    while len(songs) < 10000:\n",
    "        try:\n",
    "            for song in chart:\n",
    "                if song not in songs:\n",
    "                    songs[song.title] = (song.artist, song.weeks, song.peakPos)\n",
    "\n",
    "            save_dict(songs)\n",
    "            time.sleep(4)\n",
    "\n",
    "            if temp_month == '11':\n",
    "                temp_month = '07'\n",
    "            elif temp_month == '07':\n",
    "                temp_month = '03'\n",
    "            elif temp_month == '03':\n",
    "                temp_month = '11'\n",
    "                temp_year -= 1\n",
    "    \n",
    "            temp_date = str(temp_year) + '-' + temp_month + '-' + str(day)\n",
    "            chart = billboard.ChartData('hot-100', temp_date)\n",
    "        \n",
    "            date = temp_date\n",
    "            \n",
    "        except:\n",
    "            print(\"Waiting...\")\n",
    "            time.sleep(60)\n",
    "            print(\"Finished waiting.\")\n",
    "\n",
    "    return songs"
   ]
  },
  {
   "cell_type": "markdown",
   "metadata": {},
   "source": [
    "Runing all the functions, we have ourselves the finished csv."
   ]
  },
  {
   "cell_type": "markdown",
   "metadata": {},
   "source": [
    "## Lyrics scraping"
   ]
  },
  {
   "cell_type": "markdown",
   "metadata": {},
   "source": [
    "After getting the song list from billboard, we scrape lyrics from two sites <a href=\"lyrics.com\">lyrics.com</a> and  <a href=\"azlyrics.com\">azlyrics.com</a>.  <a href=\"lyrics.com\">Lyrics.com</a> also contains the genre information as well along with lyrics. When the scrapper fails to get lyrics from  <a href=\"lyrics.com\">lyrics.com</a>, it falls back and uses <a href=\"azlyrics.com\">azlyrics.com</a>."
   ]
  },
  {
   "cell_type": "code",
   "execution_count": 2,
   "metadata": {},
   "outputs": [],
   "source": [
    "from bs4 import BeautifulSoup\n",
    "\n",
    "import requests\n",
    "import re\n",
    "import json\n",
    "\n",
    "import csv\n",
    "import urllib\n",
    "from urllib.parse import urlparse,urlunparse,urlencode"
   ]
  },
  {
   "cell_type": "markdown",
   "metadata": {},
   "source": [
    "### Scraping from lyrics.com\n",
    "\n",
    "Given a song and an artist name, we first make a search request using url parameters.\n",
    "\n",
    "Then we use BeautifulSoup to extract the url for lyrics for the song."
   ]
  },
  {
   "cell_type": "code",
   "execution_count": 7,
   "metadata": {},
   "outputs": [],
   "source": [
    "def get_artist_url(song,artist):\n",
    "    artist = re.sub('featuring','&',artist,flags=re.IGNORECASE)\n",
    "    artist = re.sub('with','&',artist,flags=re.IGNORECASE)\n",
    "    artists = artist.split('&')\n",
    "    a_url = None\n",
    "    for ar in artists:\n",
    "        base_url = \"https://www.lyrics.com/serp.php?\"\n",
    "        f = { 'st' : ar, 'qtype':'2'}\n",
    "\n",
    "        artist_search_url = base_url + urlencode(f)\n",
    "        search_page = requests.get(artist_search_url)\n",
    "        soup = BeautifulSoup(search_page.content,\"html.parser\")\n",
    "        name = ar.strip()\n",
    "        url_content = soup.findAll('a',title=re.compile(name,re.I))\n",
    "        if url_content:\n",
    "            for url in url_content:\n",
    "                if url['title'] == name:\n",
    "                    a_url = url\n",
    "                    break\n",
    "        if a_url:\n",
    "            break\n",
    "    if not a_url:\n",
    "        print(\"No artist links found\")\n",
    "        return None\n",
    "    \n",
    "    artist_path = a_url['href']\n",
    "    parsed_page_url = urlparse(search_page.url)\n",
    "    parsed_page_url = parsed_page_url._replace(path=artist_path)\n",
    "    parsed_page_url = parsed_page_url._replace(query='')\n",
    "    artist_url = urlunparse(parsed_page_url)\n",
    "     \n",
    "    return artist_url\n",
    "    \n",
    "def get_song_url(song,artist):\n",
    "    artist_url = get_artist_url(song,artist)\n",
    "    if not artist_url:\n",
    "        return None\n",
    "    artist_page = requests.get(artist_url)\n",
    "    soup = BeautifulSoup(artist_page.content,\"html.parser\")\n",
    "    url_content = soup.findAll('a',text=re.compile(song,re.I),href=re.compile(\"lyric\"))\n",
    "    if not url_content:\n",
    "        return None\n",
    "    song_page_path = url_content[0]['href']\n",
    "    parsed_page_url = urlparse(artist_page.url)\n",
    "    parsed_page_url = parsed_page_url._replace(path=song_page_path)\n",
    "    song_page_url = urlunparse(parsed_page_url)\n",
    "    print(song_page_url)\n",
    "    return song_page_url\n"
   ]
  },
  {
   "cell_type": "markdown",
   "metadata": {},
   "source": [
    "Given the song url, we once again use BeautifulSoup to lyrics from the song url"
   ]
  },
  {
   "cell_type": "code",
   "execution_count": 8,
   "metadata": {},
   "outputs": [],
   "source": [
    "def get_song_details(url):\n",
    "    details = {}\n",
    "    details[\"url\"] = url\n",
    "    page = requests.get(url)\n",
    "    s = BeautifulSoup(page.content,\"html.parser\")\n",
    "    lyrics = s.select('pre:is(#lyric-body-text)')\n",
    "    \n",
    "    if lyrics and len(lyrics) > 0:\n",
    "        details['lyrics'] = lyrics[0].get_text().split('\\r\\n')\n",
    "    artist = s.find(href=re.compile(\"artist/\"))\n",
    "    if artist:\n",
    "        details['artist'] = artist.get_text()\n",
    "    \n",
    "    title = s.find(class_=\"lyric-title\")\n",
    "    if title:\n",
    "        details[\"title\"] = title.get_text()\n",
    "    bio = s.find(class_=\"bio\")\n",
    "    if bio:\n",
    "        details['bio'] = bio.get_text()\n",
    "    genre = s.find(href=re.compile(\"genre/\"))\n",
    "    if genre:\n",
    "        details['genre'] = genre.get_text()\n",
    "    style = s.find(href=re.compile(\"style/\"))\n",
    "    if style:\n",
    "        details['style'] = style.get_text()\n",
    "    credits = s.find(class_=\"lyric-credits\")\n",
    "    if credits:\n",
    "        details['credits'] = credits.get_text().split('\\n')[-4:-1]\n",
    "    year = s.find(href=re.compile(\"year/\"))\n",
    "    if year:\n",
    "        details['year'] = int(year.get_text())\n",
    "    views = s.find(class_=\"c-views\")\n",
    "    if views:\n",
    "        b = views.get_text()\n",
    "        re.sub(b,'^[0-9]*','')\n",
    "        details['views'] = b.split()[0]\n",
    "            \n",
    "    return details"
   ]
  },
  {
   "cell_type": "markdown",
   "metadata": {},
   "source": [
    "### Scrapping from azlyrics.com\n",
    "\n",
    "If the above function fails, we get the lyrics from azlyrics.com instead."
   ]
  },
  {
   "cell_type": "code",
   "execution_count": 6,
   "metadata": {},
   "outputs": [],
   "source": [
    "def get_lyrics(artist,song_title):\n",
    "    details = {}\n",
    "    details['artist'] = artist\n",
    "    details['title'] = song_title\n",
    "    artist = artist.lower()\n",
    "    song_title = song_title.lower()\n",
    "    # remove all except alphanumeric characters from artist and song_title\n",
    "    artist = re.sub('[^A-Za-z0-9]+', \"\", artist)\n",
    "    song_title = re.sub('[^A-Za-z0-9]+', \"\", song_title)\n",
    "    if artist.startswith(\"the\"):    # remove starting 'the' from artist e.g. the who -> who\n",
    "        artist = artist[3:]\n",
    "    url = \"http://azlyrics.com/lyrics/\"+artist+\"/\"+song_title+\".html\"\n",
    "    details['url'] = url\n",
    "    try:\n",
    "        content = urllib.request.urlopen(url).read()\n",
    "        soup = BeautifulSoup(content, 'html.parser')\n",
    "        lyrics = str(soup)\n",
    "        # lyrics lies between up_partition and down_partition\n",
    "        up_partition = '<!-- Usage of azlyrics.com content by any third-party lyrics provider is prohibited by our licensing agreement. Sorry about that. -->'\n",
    "        down_partition = '<!-- MxM banner -->'\n",
    "        lyrics = lyrics.split(up_partition)[1]\n",
    "        lyrics = lyrics.split(down_partition)[0]\n",
    "        lyrics = lyrics.replace('<br>','').replace('</br>','').replace('</div>','').strip()\n",
    "        details['lyrics'] = [r for r in (re.split(r'\\n|<br/>',lyrics)) if r] \n",
    "        return details\n",
    "    except Exception as e:\n",
    "        return \"Exception occurred \\n\" +str(e)\n"
   ]
  },
  {
   "cell_type": "markdown",
   "metadata": {},
   "source": [
    "### Putting them together\n",
    "\n",
    "Use the above functions to extract lyrics from the output of the first scraper (on BillBoard)."
   ]
  },
  {
   "cell_type": "code",
   "execution_count": 9,
   "metadata": {},
   "outputs": [
    {
     "name": "stdout",
     "output_type": "stream",
     "text": [
      "https://www.lyrics.com/lyric/36199785/Lewis+Capaldi/Someone+You+Loved\n",
      "1  downloaded from  0\n",
      "Saved to json file\n",
      "lyrics.com didn't work\n",
      "https://www.lyrics.com/lyric/36643973/Lizzo/Good+as+Hell\n",
      "https://www.lyrics.com/lyric/34416607/Lizzo/Truth+Hurts\n",
      "https://www.lyrics.com/lyric/36628445/Selena+Gomez/Lose+You+to+Love+Me\n",
      "https://www.lyrics.com/lyric/36331897/Lil+Nas+X/Panini\n",
      "lyrics.com didn't work\n",
      "https://www.lyrics.com/lyric/36275601/Luke+Combs/Even+Though+I%27m+Leaving\n",
      "lyrics.com didn't work\n"
     ]
    }
   ],
   "source": [
    "downloaded_songs = []\n",
    "i = 0\n",
    "with open(\"songs_list.csv\") as csvfile:\n",
    "    reader = csv.DictReader(csvfile, delimiter=',')\n",
    "    for row in reader:\n",
    "        song = row['songs']\n",
    "        artist = row['artists']\n",
    "        try:\n",
    "            song_url = get_song_url(song,artist)\n",
    "            if(song_url):\n",
    "                d = get_song_details(song_url)\n",
    "                downloaded_songs.append(d)\n",
    "            else:\n",
    "                d = get_lyrics(artist,song)\n",
    "                downloaded_songs.append(d)\n",
    "        except:\n",
    "            print(\"lyrics.com didn't work\")\n",
    "            d = get_lyrics(artist,song)\n",
    "            downloaded_songs.append(d)\n",
    "\n",
    "        if (i%20 == 0):\n",
    "            with open(\"songs.json\",\"w\") as outfile:\n",
    "                json.dump(downloaded_songs,outfile)\n",
    "            \n",
    "        i+=1\n",
    "            \n",
    "            \n",
    "with open(\"songs.json\",\"w\") as outfile:\n",
    "    print(len(downloaded_songs), \" downloaded from \", i)\n",
    "    json.dump(downloaded_songs,outfile)"
   ]
  },
  {
   "cell_type": "code",
   "execution_count": 1,
   "metadata": {},
   "outputs": [],
   "source": [
    "import json\n",
    "import pandas as pd\n",
    "import re\n",
    "import numpy as np"
   ]
  },
  {
   "cell_type": "code",
   "execution_count": null,
   "metadata": {},
   "outputs": [],
   "source": [
    "import gensim\n",
    "from gensim.models.fasttext import FastText\n",
    "import nltk\n",
    "from nltk.corpus import stopwords\n",
    "from nltk.tokenize import word_tokenize\n",
    "from nltk.stem import WordNetLemmatizer\n",
    "from nltk.tokenize import sent_tokenize\n",
    "from nltk import WordPunctTokenizer"
   ]
  },
  {
   "cell_type": "markdown",
   "metadata": {},
   "source": [
    "## Preprocessing"
   ]
  },
  {
   "cell_type": "markdown",
   "metadata": {},
   "source": [
    "### General Preprocessing"
   ]
  },
  {
   "cell_type": "markdown",
   "metadata": {},
   "source": [
    "After we have finished scraping lyrics from the given song titles, we have ourselves a JSON file containing song titles, with some lyrics and genres. We sift through the JSON first to create a DataFrame of all songs which actually have lyrics to work work with, given the capriciousness of HTTP scraping:"
   ]
  },
  {
   "cell_type": "code",
   "execution_count": 27,
   "metadata": {},
   "outputs": [
    {
     "data": {
      "text/html": [
       "<div>\n",
       "<style scoped>\n",
       "    .dataframe tbody tr th:only-of-type {\n",
       "        vertical-align: middle;\n",
       "    }\n",
       "\n",
       "    .dataframe tbody tr th {\n",
       "        vertical-align: top;\n",
       "    }\n",
       "\n",
       "    .dataframe thead th {\n",
       "        text-align: right;\n",
       "    }\n",
       "</style>\n",
       "<table border=\"1\" class=\"dataframe\">\n",
       "  <thead>\n",
       "    <tr style=\"text-align: right;\">\n",
       "      <th></th>\n",
       "      <th>songs</th>\n",
       "      <th>lyrics</th>\n",
       "    </tr>\n",
       "  </thead>\n",
       "  <tbody>\n",
       "    <tr>\n",
       "      <th>0</th>\n",
       "      <td>Someone You Loved</td>\n",
       "      <td>[I'm going under and this time I fear there's ...</td>\n",
       "    </tr>\n",
       "    <tr>\n",
       "      <th>1</th>\n",
       "      <td>Circles</td>\n",
       "      <td>[Oh, oh, oh, Oh, oh, oh, Oh, oh, oh, Oh, oh, ,...</td>\n",
       "    </tr>\n",
       "    <tr>\n",
       "      <th>2</th>\n",
       "      <td>Good as Hell [Two Stacks Remix]</td>\n",
       "      <td>[I do my hair toss, Check my nails, Baby how y...</td>\n",
       "    </tr>\n",
       "    <tr>\n",
       "      <th>3</th>\n",
       "      <td>Truth Hurts</td>\n",
       "      <td>[Why men great 'til they gotta be great?, Woo,...</td>\n",
       "    </tr>\n",
       "    <tr>\n",
       "      <th>4</th>\n",
       "      <td>Lose You to Love Me</td>\n",
       "      <td>[You promised the world and I fell for it, I p...</td>\n",
       "    </tr>\n",
       "  </tbody>\n",
       "</table>\n",
       "</div>"
      ],
      "text/plain": [
       "                             songs  \\\n",
       "0                Someone You Loved   \n",
       "1                          Circles   \n",
       "2  Good as Hell [Two Stacks Remix]   \n",
       "3                      Truth Hurts   \n",
       "4              Lose You to Love Me   \n",
       "\n",
       "                                              lyrics  \n",
       "0  [I'm going under and this time I fear there's ...  \n",
       "1  [Oh, oh, oh, Oh, oh, oh, Oh, oh, oh, Oh, oh, ,...  \n",
       "2  [I do my hair toss, Check my nails, Baby how y...  \n",
       "3  [Why men great 'til they gotta be great?, Woo,...  \n",
       "4  [You promised the world and I fell for it, I p...  "
      ]
     },
     "execution_count": 27,
     "metadata": {},
     "output_type": "execute_result"
    }
   ],
   "source": [
    "#songs is the name of the json file containing lyrics\n",
    "with open (\"songs.json\", 'r') as f:\n",
    "    songs = json.load(f)\n",
    "\n",
    "titles = []\n",
    "lyrics = []\n",
    "\n",
    "for i in range(len(songs)):\n",
    "    try:\n",
    "        titles.append(songs[i]['title'])\n",
    "        lyrics.append(songs[i]['lyrics'])\n",
    "    except TypeError:\n",
    "        continue\n",
    "    except KeyError:\n",
    "        continue\n",
    "\n",
    "df = pd.DataFrame({'songs' : titles, 'lyrics' : lyrics})\n",
    "df.head()"
   ]
  },
  {
   "cell_type": "markdown",
   "metadata": {},
   "source": [
    "We use the available genres, as well as the additional genre scraping, to compile a DataFrame containing all songs with both lyrics and genres.\n",
    "\n",
    "The first thing to do is to create a dictionary mapping each song to its genre, and then use that map to attribute each song with a genre, with \"Not Found\" being the placeholder in the failure case:"
   ]
  },
  {
   "cell_type": "code",
   "execution_count": 28,
   "metadata": {},
   "outputs": [
    {
     "data": {
      "text/html": [
       "<div>\n",
       "<style scoped>\n",
       "    .dataframe tbody tr th:only-of-type {\n",
       "        vertical-align: middle;\n",
       "    }\n",
       "\n",
       "    .dataframe tbody tr th {\n",
       "        vertical-align: top;\n",
       "    }\n",
       "\n",
       "    .dataframe thead th {\n",
       "        text-align: right;\n",
       "    }\n",
       "</style>\n",
       "<table border=\"1\" class=\"dataframe\">\n",
       "  <thead>\n",
       "    <tr style=\"text-align: right;\">\n",
       "      <th></th>\n",
       "      <th>songs</th>\n",
       "      <th>lyrics</th>\n",
       "      <th>genre</th>\n",
       "    </tr>\n",
       "  </thead>\n",
       "  <tbody>\n",
       "    <tr>\n",
       "      <th>0</th>\n",
       "      <td>Someone You Loved</td>\n",
       "      <td>[I'm going under and this time I fear there's ...</td>\n",
       "      <td>Pop</td>\n",
       "    </tr>\n",
       "    <tr>\n",
       "      <th>1</th>\n",
       "      <td>Circles</td>\n",
       "      <td>[Oh, oh, oh, Oh, oh, oh, Oh, oh, oh, Oh, oh, ,...</td>\n",
       "      <td>Not Found</td>\n",
       "    </tr>\n",
       "    <tr>\n",
       "      <th>2</th>\n",
       "      <td>Good as Hell [Two Stacks Remix]</td>\n",
       "      <td>[I do my hair toss, Check my nails, Baby how y...</td>\n",
       "      <td>Not Found</td>\n",
       "    </tr>\n",
       "    <tr>\n",
       "      <th>3</th>\n",
       "      <td>Truth Hurts</td>\n",
       "      <td>[Why men great 'til they gotta be great?, Woo,...</td>\n",
       "      <td>Not Found</td>\n",
       "    </tr>\n",
       "    <tr>\n",
       "      <th>4</th>\n",
       "      <td>Lose You to Love Me</td>\n",
       "      <td>[You promised the world and I fell for it, I p...</td>\n",
       "      <td>Not Found</td>\n",
       "    </tr>\n",
       "  </tbody>\n",
       "</table>\n",
       "</div>"
      ],
      "text/plain": [
       "                             songs  \\\n",
       "0                Someone You Loved   \n",
       "1                          Circles   \n",
       "2  Good as Hell [Two Stacks Remix]   \n",
       "3                      Truth Hurts   \n",
       "4              Lose You to Love Me   \n",
       "\n",
       "                                              lyrics      genre  \n",
       "0  [I'm going under and this time I fear there's ...        Pop  \n",
       "1  [Oh, oh, oh, Oh, oh, oh, Oh, oh, oh, Oh, oh, ,...  Not Found  \n",
       "2  [I do my hair toss, Check my nails, Baby how y...  Not Found  \n",
       "3  [Why men great 'til they gotta be great?, Woo,...  Not Found  \n",
       "4  [You promised the world and I fell for it, I p...  Not Found  "
      ]
     },
     "execution_count": 28,
     "metadata": {},
     "output_type": "execute_result"
    }
   ],
   "source": [
    "genre_dict = dict()\n",
    "\n",
    "for song in songs:\n",
    "    title = \"\"\n",
    "    genre = \"\"\n",
    "    \n",
    "    try:\n",
    "        title = song['title']\n",
    "    except TypeError:\n",
    "        title = \"\"\n",
    "    except KeyError:\n",
    "        title = \"\"\n",
    "        \n",
    "    try:\n",
    "        genre = song['genre']\n",
    "    except TypeError:\n",
    "        genre = 'Not Found'\n",
    "    except KeyError:\n",
    "        genre = 'Not Found'\n",
    "        \n",
    "    genre_dict[title] = genre\n",
    "        \n",
    "def genre_map(title):\n",
    "    return genre_dict[title]\n",
    "\n",
    "df['genre'] = df['songs'].apply(genre_map)\n",
    "df.head()"
   ]
  },
  {
   "cell_type": "markdown",
   "metadata": {},
   "source": [
    "We then load the additional genre scraping file and again use the same technique to correct as many \"Not Found\" cases we can:"
   ]
  },
  {
   "cell_type": "code",
   "execution_count": 29,
   "metadata": {},
   "outputs": [
    {
     "data": {
      "text/html": [
       "<div>\n",
       "<style scoped>\n",
       "    .dataframe tbody tr th:only-of-type {\n",
       "        vertical-align: middle;\n",
       "    }\n",
       "\n",
       "    .dataframe tbody tr th {\n",
       "        vertical-align: top;\n",
       "    }\n",
       "\n",
       "    .dataframe thead th {\n",
       "        text-align: right;\n",
       "    }\n",
       "</style>\n",
       "<table border=\"1\" class=\"dataframe\">\n",
       "  <thead>\n",
       "    <tr style=\"text-align: right;\">\n",
       "      <th></th>\n",
       "      <th>songs</th>\n",
       "      <th>lyrics</th>\n",
       "      <th>genre</th>\n",
       "    </tr>\n",
       "  </thead>\n",
       "  <tbody>\n",
       "    <tr>\n",
       "      <th>0</th>\n",
       "      <td>Someone You Loved</td>\n",
       "      <td>[I'm going under and this time I fear there's ...</td>\n",
       "      <td>Pop</td>\n",
       "    </tr>\n",
       "    <tr>\n",
       "      <th>1</th>\n",
       "      <td>Circles</td>\n",
       "      <td>[Oh, oh, oh, Oh, oh, oh, Oh, oh, oh, Oh, oh, ,...</td>\n",
       "      <td>Alternative</td>\n",
       "    </tr>\n",
       "    <tr>\n",
       "      <th>2</th>\n",
       "      <td>Good as Hell [Two Stacks Remix]</td>\n",
       "      <td>[I do my hair toss, Check my nails, Baby how y...</td>\n",
       "      <td>Dance</td>\n",
       "    </tr>\n",
       "    <tr>\n",
       "      <th>3</th>\n",
       "      <td>Truth Hurts</td>\n",
       "      <td>[Why men great 'til they gotta be great?, Woo,...</td>\n",
       "      <td>Pop</td>\n",
       "    </tr>\n",
       "    <tr>\n",
       "      <th>4</th>\n",
       "      <td>Lose You to Love Me</td>\n",
       "      <td>[You promised the world and I fell for it, I p...</td>\n",
       "      <td>Not Found</td>\n",
       "    </tr>\n",
       "  </tbody>\n",
       "</table>\n",
       "</div>"
      ],
      "text/plain": [
       "                             songs  \\\n",
       "0                Someone You Loved   \n",
       "1                          Circles   \n",
       "2  Good as Hell [Two Stacks Remix]   \n",
       "3                      Truth Hurts   \n",
       "4              Lose You to Love Me   \n",
       "\n",
       "                                              lyrics        genre  \n",
       "0  [I'm going under and this time I fear there's ...          Pop  \n",
       "1  [Oh, oh, oh, Oh, oh, oh, Oh, oh, oh, Oh, oh, ,...  Alternative  \n",
       "2  [I do my hair toss, Check my nails, Baby how y...        Dance  \n",
       "3  [Why men great 'til they gotta be great?, Woo,...          Pop  \n",
       "4  [You promised the world and I fell for it, I p...    Not Found  "
      ]
     },
     "execution_count": 29,
     "metadata": {},
     "output_type": "execute_result"
    }
   ],
   "source": [
    "song_genres = ''\n",
    "with open (\"songs_genres.json\", 'r') as f:\n",
    "    songs_genres = json.load(f)\n",
    "    \n",
    "new_genre_dict = dict()\n",
    "    \n",
    "for song in songs_genres:\n",
    "    title = \"\"\n",
    "    genre = \"\"\n",
    "    \n",
    "    try:\n",
    "        title = song['title']\n",
    "    except TypeError:\n",
    "        title = \"\"\n",
    "    except KeyError:\n",
    "        title = \"\"\n",
    "        \n",
    "    try:\n",
    "        genre = song['genre']\n",
    "    except TypeError:\n",
    "        genre = 'Not Found'\n",
    "    except KeyError:\n",
    "        genre = 'Not Found'\n",
    "        \n",
    "    new_genre_dict[title] = genre\n",
    "        \n",
    "def new_genre_map(title):\n",
    "    if genre_dict[title] == 'Not Found':\n",
    "        return new_genre_dict[title]\n",
    "    return genre_dict[title]\n",
    "\n",
    "df['genre'] = df['songs'].apply(new_genre_map)\n",
    "df.head()"
   ]
  },
  {
   "cell_type": "markdown",
   "metadata": {},
   "source": [
    "The final general preprocessing step is to filter out all remainig \"Not Found\" cases:"
   ]
  },
  {
   "cell_type": "code",
   "execution_count": 30,
   "metadata": {},
   "outputs": [
    {
     "data": {
      "text/html": [
       "<div>\n",
       "<style scoped>\n",
       "    .dataframe tbody tr th:only-of-type {\n",
       "        vertical-align: middle;\n",
       "    }\n",
       "\n",
       "    .dataframe tbody tr th {\n",
       "        vertical-align: top;\n",
       "    }\n",
       "\n",
       "    .dataframe thead th {\n",
       "        text-align: right;\n",
       "    }\n",
       "</style>\n",
       "<table border=\"1\" class=\"dataframe\">\n",
       "  <thead>\n",
       "    <tr style=\"text-align: right;\">\n",
       "      <th></th>\n",
       "      <th>songs</th>\n",
       "      <th>lyrics</th>\n",
       "      <th>genre</th>\n",
       "    </tr>\n",
       "  </thead>\n",
       "  <tbody>\n",
       "    <tr>\n",
       "      <th>0</th>\n",
       "      <td>Someone You Loved</td>\n",
       "      <td>[I'm going under and this time I fear there's ...</td>\n",
       "      <td>Pop</td>\n",
       "    </tr>\n",
       "    <tr>\n",
       "      <th>1</th>\n",
       "      <td>Circles</td>\n",
       "      <td>[Oh, oh, oh, Oh, oh, oh, Oh, oh, oh, Oh, oh, ,...</td>\n",
       "      <td>Alternative</td>\n",
       "    </tr>\n",
       "    <tr>\n",
       "      <th>2</th>\n",
       "      <td>Good as Hell [Two Stacks Remix]</td>\n",
       "      <td>[I do my hair toss, Check my nails, Baby how y...</td>\n",
       "      <td>Dance</td>\n",
       "    </tr>\n",
       "    <tr>\n",
       "      <th>3</th>\n",
       "      <td>Truth Hurts</td>\n",
       "      <td>[Why men great 'til they gotta be great?, Woo,...</td>\n",
       "      <td>Pop</td>\n",
       "    </tr>\n",
       "    <tr>\n",
       "      <th>5</th>\n",
       "      <td>Panini</td>\n",
       "      <td>[Daytrip took it to 10 (hey), , Ayy, Panini, d...</td>\n",
       "      <td>Alternative</td>\n",
       "    </tr>\n",
       "  </tbody>\n",
       "</table>\n",
       "</div>"
      ],
      "text/plain": [
       "                             songs  \\\n",
       "0                Someone You Loved   \n",
       "1                          Circles   \n",
       "2  Good as Hell [Two Stacks Remix]   \n",
       "3                      Truth Hurts   \n",
       "5                           Panini   \n",
       "\n",
       "                                              lyrics        genre  \n",
       "0  [I'm going under and this time I fear there's ...          Pop  \n",
       "1  [Oh, oh, oh, Oh, oh, oh, Oh, oh, oh, Oh, oh, ,...  Alternative  \n",
       "2  [I do my hair toss, Check my nails, Baby how y...        Dance  \n",
       "3  [Why men great 'til they gotta be great?, Woo,...          Pop  \n",
       "5  [Daytrip took it to 10 (hey), , Ayy, Panini, d...  Alternative  "
      ]
     },
     "execution_count": 30,
     "metadata": {},
     "output_type": "execute_result"
    }
   ],
   "source": [
    "good = df['genre'] != 'Not Found'\n",
    "df = df[good]\n",
    "df.head()"
   ]
  },
  {
   "cell_type": "markdown",
   "metadata": {},
   "source": [
    "### Genre Preprocessing"
   ]
  },
  {
   "cell_type": "markdown",
   "metadata": {},
   "source": [
    "Since the additional genre scraping introduced many more genres, we want to both consolidate the genres we can, and remove genres with few examples. Using our vast knowledge of musical styles, we manually compose a mapping of newly scraped genres into existing genres, if we can: "
   ]
  },
  {
   "cell_type": "code",
   "execution_count": 31,
   "metadata": {},
   "outputs": [],
   "source": [
    "genre_map = dict()\n",
    "\n",
    "genres = dict()\n",
    "for song in songs:\n",
    "    try:\n",
    "        genre = song['genre']\n",
    "    except TypeError:\n",
    "        genre = 'Not Found'\n",
    "    except KeyError:\n",
    "        genre = 'Not Found'\n",
    "        \n",
    "    if not genre == 'Not Found':\n",
    "        genres[genre] = ''\n",
    "        \n",
    "new_genres = dict()\n",
    "for song in songs_genres:\n",
    "    try:\n",
    "        genre = song['genre']\n",
    "    except TypeError:\n",
    "        genre = 'Not Found'\n",
    "    except KeyError:\n",
    "        genre = 'Not Found'\n",
    "        \n",
    "    if not genre == 'Not Found':\n",
    "        new_genres[genre] = ''\n",
    "\n",
    "pop_keys = ['Pop', 'Pop/Rock']\n",
    "hiphop_keys = ['Hip Hop/Rap', 'Hip Hop', 'Alternative Rap', 'Hip-Hop', 'West Coast Rap', 'Gangsta Rap']\n",
    "folk_keys = ['Folk, World, & Country', 'World', 'Traditional Country', 'Contemporary Country', 'Folk-Rock', 'Country']\n",
    "electronic_keys = ['Electronic', 'House']\n",
    "funk_keys = ['R&B/Soul', 'Funk / Soul', 'Soul', 'Funk', 'Disco', 'Contemporary R&B']\n",
    "latin_keys = ['Latin Urban', 'Latin', 'Salsa y Tropical']\n",
    "child_keys = ['Children\\'s']\n",
    "rock_keys = ['Alternative', 'Rock', 'Arena Rock', 'Rock and Roll', 'Punk', 'Soft Rock', 'Rock & Roll']\n",
    "blues_keys = ['Blues']\n",
    "stage_keys = ['Stage & Screen', 'Soundtrack']\n",
    "reggae_keys = ['Reggae', 'Dancehall']\n",
    "jazz_keys = ['Jazz']\n",
    "brass_keys = ['Brass & Military']\n",
    "\n",
    "genres_keys = [key for key in genres.keys()]\n",
    "\n",
    "for key in new_genres.keys():\n",
    "    if key in pop_keys:\n",
    "        genre_map[key] = genres_keys[0]\n",
    "    elif key in hiphop_keys:\n",
    "        genre_map[key] = genres_keys[1]\n",
    "    elif key in folk_keys:\n",
    "        genre_map[key] = genres_keys[2]\n",
    "    elif key in electronic_keys:\n",
    "        genre_map[key] = genres_keys[3]\n",
    "    elif key in funk_keys:\n",
    "        genre_map[key] = genres_keys[4]\n",
    "    elif key in latin_keys:\n",
    "        genre_map[key] = genres_keys[5]\n",
    "    elif key in child_keys:\n",
    "        genre_map[key] = genres_keys[6]\n",
    "    elif key in rock_keys:\n",
    "        genre_map[key] = genres_keys[7]\n",
    "    elif key in blues_keys:\n",
    "        genre_map[key] = genres_keys[8]\n",
    "    elif key in stage_keys:\n",
    "        genre_map[key] = genres_keys[9]\n",
    "    elif key in reggae_keys:\n",
    "        genre_map[key] = genres_keys[10]\n",
    "    elif key in jazz_keys:\n",
    "        genre_map[key] = genres_keys[11]\n",
    "    elif key in brass_keys:\n",
    "        genre_map[key] = genres_keys[12]\n",
    "        \n",
    "    else:\n",
    "        genre_map[key] = key"
   ]
  },
  {
   "cell_type": "markdown",
   "metadata": {},
   "source": [
    "We can then go ahead and update the DataFrame with this consolidation:"
   ]
  },
  {
   "cell_type": "code",
   "execution_count": 32,
   "metadata": {},
   "outputs": [
    {
     "data": {
      "text/html": [
       "<div>\n",
       "<style scoped>\n",
       "    .dataframe tbody tr th:only-of-type {\n",
       "        vertical-align: middle;\n",
       "    }\n",
       "\n",
       "    .dataframe tbody tr th {\n",
       "        vertical-align: top;\n",
       "    }\n",
       "\n",
       "    .dataframe thead th {\n",
       "        text-align: right;\n",
       "    }\n",
       "</style>\n",
       "<table border=\"1\" class=\"dataframe\">\n",
       "  <thead>\n",
       "    <tr style=\"text-align: right;\">\n",
       "      <th></th>\n",
       "      <th>songs</th>\n",
       "      <th>lyrics</th>\n",
       "      <th>genre</th>\n",
       "    </tr>\n",
       "  </thead>\n",
       "  <tbody>\n",
       "    <tr>\n",
       "      <th>0</th>\n",
       "      <td>Someone You Loved</td>\n",
       "      <td>[I'm going under and this time I fear there's ...</td>\n",
       "      <td>Pop</td>\n",
       "    </tr>\n",
       "    <tr>\n",
       "      <th>1</th>\n",
       "      <td>Circles</td>\n",
       "      <td>[Oh, oh, oh, Oh, oh, oh, Oh, oh, oh, Oh, oh, ,...</td>\n",
       "      <td>Rock</td>\n",
       "    </tr>\n",
       "    <tr>\n",
       "      <th>2</th>\n",
       "      <td>Good as Hell [Two Stacks Remix]</td>\n",
       "      <td>[I do my hair toss, Check my nails, Baby how y...</td>\n",
       "      <td>Dance</td>\n",
       "    </tr>\n",
       "    <tr>\n",
       "      <th>3</th>\n",
       "      <td>Truth Hurts</td>\n",
       "      <td>[Why men great 'til they gotta be great?, Woo,...</td>\n",
       "      <td>Pop</td>\n",
       "    </tr>\n",
       "    <tr>\n",
       "      <th>5</th>\n",
       "      <td>Panini</td>\n",
       "      <td>[Daytrip took it to 10 (hey), , Ayy, Panini, d...</td>\n",
       "      <td>Rock</td>\n",
       "    </tr>\n",
       "  </tbody>\n",
       "</table>\n",
       "</div>"
      ],
      "text/plain": [
       "                             songs  \\\n",
       "0                Someone You Loved   \n",
       "1                          Circles   \n",
       "2  Good as Hell [Two Stacks Remix]   \n",
       "3                      Truth Hurts   \n",
       "5                           Panini   \n",
       "\n",
       "                                              lyrics  genre  \n",
       "0  [I'm going under and this time I fear there's ...    Pop  \n",
       "1  [Oh, oh, oh, Oh, oh, oh, Oh, oh, oh, Oh, oh, ,...   Rock  \n",
       "2  [I do my hair toss, Check my nails, Baby how y...  Dance  \n",
       "3  [Why men great 'til they gotta be great?, Woo,...    Pop  \n",
       "5  [Daytrip took it to 10 (hey), , Ayy, Panini, d...   Rock  "
      ]
     },
     "execution_count": 32,
     "metadata": {},
     "output_type": "execute_result"
    }
   ],
   "source": [
    "def genre_consolidation(genre):\n",
    "    return genre_map[genre]\n",
    "\n",
    "df['genre'] = df['genre'].apply(genre_consolidation)\n",
    "df.head()"
   ]
  },
  {
   "cell_type": "markdown",
   "metadata": {},
   "source": [
    "The penultimate genre preprocessing step is to get rid of rare genres. We scan the preprocessed DataFrame to get the total appearance of each consolidated genre:"
   ]
  },
  {
   "cell_type": "code",
   "execution_count": 33,
   "metadata": {},
   "outputs": [
    {
     "data": {
      "text/plain": [
       "{'Pop': 1133,\n",
       " 'Rock': 924,\n",
       " 'Dance': 56,\n",
       " 'Folk, World, & Country': 961,\n",
       " 'Electronic': 740,\n",
       " 'Hip Hop': 943,\n",
       " 'Funk / Soul': 545,\n",
       " 'Latin': 33,\n",
       " \"Children's\": 1,\n",
       " 'Stage & Screen': 6,\n",
       " 'Reggae': 17,\n",
       " 'Blues': 31,\n",
       " 'Christian & Gospel': 5,\n",
       " 'Karaoke': 1,\n",
       " 'Comedy': 1,\n",
       " 'Singer/Songwriter': 4,\n",
       " 'Jazz': 11,\n",
       " 'Brass & Military': 1,\n",
       " 'New Age': 1,\n",
       " 'Vocal': 1}"
      ]
     },
     "execution_count": 33,
     "metadata": {},
     "output_type": "execute_result"
    }
   ],
   "source": [
    "genre_total = dict()\n",
    "\n",
    "for index, row in df.iterrows():\n",
    "    genre = row['genre']\n",
    "    if genre not in genre_total:\n",
    "        genre_total[genre] = 1\n",
    "    else:\n",
    "        genre_total[genre] += 1\n",
    "        \n",
    "genre_total"
   ]
  },
  {
   "cell_type": "markdown",
   "metadata": {},
   "source": [
    "From the output, we gauge that the genres with enough examples are those with over 100: Pop, Hip-Hop, Folk/World/Country, Electronic, Funk/Soul, and Rock. We then further filter the DataFrame to get rid of songs with rare genres:"
   ]
  },
  {
   "cell_type": "code",
   "execution_count": 35,
   "metadata": {},
   "outputs": [
    {
     "data": {
      "text/html": [
       "<div>\n",
       "<style scoped>\n",
       "    .dataframe tbody tr th:only-of-type {\n",
       "        vertical-align: middle;\n",
       "    }\n",
       "\n",
       "    .dataframe tbody tr th {\n",
       "        vertical-align: top;\n",
       "    }\n",
       "\n",
       "    .dataframe thead th {\n",
       "        text-align: right;\n",
       "    }\n",
       "</style>\n",
       "<table border=\"1\" class=\"dataframe\">\n",
       "  <thead>\n",
       "    <tr style=\"text-align: right;\">\n",
       "      <th></th>\n",
       "      <th>songs</th>\n",
       "      <th>lyrics</th>\n",
       "      <th>genre</th>\n",
       "    </tr>\n",
       "  </thead>\n",
       "  <tbody>\n",
       "    <tr>\n",
       "      <th>0</th>\n",
       "      <td>Someone You Loved</td>\n",
       "      <td>[I'm going under and this time I fear there's ...</td>\n",
       "      <td>Pop</td>\n",
       "    </tr>\n",
       "    <tr>\n",
       "      <th>1</th>\n",
       "      <td>Circles</td>\n",
       "      <td>[Oh, oh, oh, Oh, oh, oh, Oh, oh, oh, Oh, oh, ,...</td>\n",
       "      <td>Rock</td>\n",
       "    </tr>\n",
       "    <tr>\n",
       "      <th>3</th>\n",
       "      <td>Truth Hurts</td>\n",
       "      <td>[Why men great 'til they gotta be great?, Woo,...</td>\n",
       "      <td>Pop</td>\n",
       "    </tr>\n",
       "    <tr>\n",
       "      <th>5</th>\n",
       "      <td>Panini</td>\n",
       "      <td>[Daytrip took it to 10 (hey), , Ayy, Panini, d...</td>\n",
       "      <td>Rock</td>\n",
       "    </tr>\n",
       "    <tr>\n",
       "      <th>7</th>\n",
       "      <td>Even Though I'm Leaving</td>\n",
       "      <td>[Daddy, I'm afraid, won't you stay a little wh...</td>\n",
       "      <td>Folk, World, &amp; Country</td>\n",
       "    </tr>\n",
       "  </tbody>\n",
       "</table>\n",
       "</div>"
      ],
      "text/plain": [
       "                     songs                                             lyrics  \\\n",
       "0        Someone You Loved  [I'm going under and this time I fear there's ...   \n",
       "1                  Circles  [Oh, oh, oh, Oh, oh, oh, Oh, oh, oh, Oh, oh, ,...   \n",
       "3              Truth Hurts  [Why men great 'til they gotta be great?, Woo,...   \n",
       "5                   Panini  [Daytrip took it to 10 (hey), , Ayy, Panini, d...   \n",
       "7  Even Though I'm Leaving  [Daddy, I'm afraid, won't you stay a little wh...   \n",
       "\n",
       "                    genre  \n",
       "0                     Pop  \n",
       "1                    Rock  \n",
       "3                     Pop  \n",
       "5                    Rock  \n",
       "7  Folk, World, & Country  "
      ]
     },
     "execution_count": 35,
     "metadata": {},
     "output_type": "execute_result"
    }
   ],
   "source": [
    "def remove_genres(genre):\n",
    "    new_genre = genre\n",
    "            \n",
    "    if genre_total[new_genre] < 100:\n",
    "        new_genre = 'Rare'\n",
    "            \n",
    "    return new_genre\n",
    "\n",
    "df['genre'] = df['genre'].apply(remove_genres)\n",
    "\n",
    "good = df['genre'] != 'Rare'\n",
    "df = df[good]\n",
    "df.head()"
   ]
  },
  {
   "cell_type": "markdown",
   "metadata": {},
   "source": [
    "The last step is to create a mapping for each final genre to an integer, which we save as a CSV file:"
   ]
  },
  {
   "cell_type": "code",
   "execution_count": 39,
   "metadata": {},
   "outputs": [],
   "source": [
    "final_genres = ['Pop', 'Hip-Hop', 'Folk, World & Country', 'Electronic', 'Funk / Soul', 'Rock']\n",
    "indices = [i for i in range(6)]\n",
    "\n",
    "map_df = pd.DataFrame({'genre' : final_genres, 'indices' : indices})\n",
    "map_df.to_csv('genre2int.csv')"
   ]
  },
  {
   "cell_type": "markdown",
   "metadata": {},
   "source": [
    "### Lyrics Preprocessing"
   ]
  },
  {
   "cell_type": "markdown",
   "metadata": {},
   "source": [
    "We can then move onto preprocessing the lyrics, which is a list of lines for each song. We start by applying the usual techniques to each line, which include casing, removing symbols, removing stop words, and lemmatizing, during which we divide the line into a list of words. We finish by then preprocessing all lines for each lyric, and then preprocessing all available lyrics."
   ]
  },
  {
   "cell_type": "markdown",
   "metadata": {},
   "source": [
    "Below are the functions for preprocessing each line and each lyric respectively:"
   ]
  },
  {
   "cell_type": "code",
   "execution_count": null,
   "metadata": {},
   "outputs": [],
   "source": [
    "stemmer = WordNetLemmatizer()\n",
    "en_stop = set(nltk.corpus.stopwords.words('english'))\n",
    "\n",
    "def preprocess(line):  \n",
    "    \n",
    "    line = re.sub(r'\\W', ' ', str(line))\n",
    "    line = re.sub(r'\\s+[a-zA-Z]\\s+', ' ', line)\n",
    "    line = re.sub(r'\\^[a-zA-Z]\\s+', ' ', line)\n",
    "    line = re.sub(r'\\s+', ' ', line, flags=re.I)\n",
    "    \n",
    "    line = line.lower()\n",
    "    \n",
    "    tokens = line.split()    \n",
    "    tokens = [stemmer.lemmatize(word) for word in tokens]\n",
    "    tokens = [word for word in tokens if word not in en_stop]\n",
    "    #tokens = [word for word in tokens if len(word) > 3]\n",
    "    \n",
    "    return tokens\n",
    "    \n",
    "def preprocess_all(lyrics):\n",
    "    ret = []\n",
    "    for line in lyrics:\n",
    "        tokens = preprocess(line)\n",
    "        if not tokens == []:\n",
    "            ret.append(tokens)\n",
    "            \n",
    "    return ret"
   ]
  },
  {
   "cell_type": "markdown",
   "metadata": {},
   "source": [
    "We can then apply the `preprocess_all` function on the `'lyrics'` column of the DataFrame:"
   ]
  },
  {
   "cell_type": "code",
   "execution_count": null,
   "metadata": {},
   "outputs": [],
   "source": [
    "df['preprocessed_lyrics'] = df['lyrics'].apply(preprocess_all)\n",
    "df.head()"
   ]
  },
  {
   "cell_type": "markdown",
   "metadata": {},
   "source": [
    "After we have preprocessed all the lyrics for all available songs, we move on to representation. For this project, we decided to go with word embeddings, specifically Google's pre-trained FastText model, which can be downloaded at the link below:"
   ]
  },
  {
   "cell_type": "markdown",
   "metadata": {},
   "source": [
    "[Fastext Model](https://code.google.com/archive/p/word2vec/)"
   ]
  },
  {
   "cell_type": "markdown",
   "metadata": {},
   "source": [
    "The model, which is about three gigabytes large, was trained on Google News's corpus text, and is a basic pre-trained word embedding models to work with and is widely used throughout all sorts of text preprocessing projects. We have the code below to load the model from the file:"
   ]
  },
  {
   "cell_type": "code",
   "execution_count": null,
   "metadata": {},
   "outputs": [],
   "source": [
    "model = gensim.models.KeyedVectors.load_word2vec_format('GoogleNews-vectors-negative300.bin/GoogleNews-vectors-negative300.bin', binary=True)\n",
    "\n"
   ]
  },
  {
   "cell_type": "markdown",
   "metadata": {},
   "source": [
    "After some time, the model will have been loaded. We can then move on to the word embeddings for each lyric."
   ]
  },
  {
   "cell_type": "markdown",
   "metadata": {},
   "source": [
    "First, regarding preprocessing, we have a few choices. We have that the basic structure of each preprocessed lyric is in the form of a list of lines of the lyrics, with each line being a list of words\n",
    "\n",
    "By default, FastText produces a vector of length 300 for each input word. If we choose to take the route of no pooling whatsoever, our embedding would be a 3-dimensional vector for each lyric, in which each line in the lyric would transformed into a variable length 2-dimensional vector with width 300. Not to mention the padding to account for differences in lengths of lines, and then diferences in number of lines between lyrics, we end up with an inordinate number of features. For regression, we would have to flatten this 3-dimensional vector into a 1-dimensional one, which could have length over 50,000. For linear and logistic regression, this would not only be an inordinate number of features, but could also lead to a long runtime for producing weights.\n",
    "\n",
    "What we can do instead is take the heuristic of keeping everything simple. Instead of a feature size based on the maximum lengths as would be implemented in the above design, to avoid complication and padding, we can keep the final vector length at 300. We can achieve this in a number of techniques, including a max pool of sorts, or some type of mask applied to reduce dimensionality. What we decided to do was to take averages of all words in a line, and take averages of all lines. To be sure, there is likely considerable information loss in using such a technique, but being able to, in some small way, include every single word in the final embedding without compromising simplicity was the motivation for choosing this approach.\n",
    "\n",
    "We have, in the fashion described above, the code below which creates the word embeddings for each line:"
   ]
  },
  {
   "cell_type": "code",
   "execution_count": null,
   "metadata": {},
   "outputs": [],
   "source": [
    "def line2vec(line):\n",
    "    line_embedding = np.zeros(300)\n",
    "    exceptions = 0\n",
    "    for word in line:\n",
    "        #print(model[word].shape)\n",
    "        try:\n",
    "            line_embedding += model[word]\n",
    "        except KeyError:\n",
    "            #print(word)\n",
    "            exceptions += 1\n",
    "    \n",
    "    return line_embedding / (len(line) - exceptions)"
   ]
  },
  {
   "cell_type": "markdown",
   "metadata": {},
   "source": [
    "We then apply the function to transform each lyric into an embedding, and then stack all available embeddings into a 2-dimensional vector, to be saved:"
   ]
  },
  {
   "cell_type": "code",
   "execution_count": null,
   "metadata": {},
   "outputs": [],
   "source": [
    "lyrics_embeddings = np.zeros((1, 300))\n",
    "\n",
    "for index, row in df.iterrows():\n",
    "    lyrics = row['preprocessed_lyrics']\n",
    "    \n",
    "    if index % 500 == 0:\n",
    "        print(index)\n",
    "    \n",
    "    lyric_embedding = np.zeros(300)\n",
    "    for line in lyrics:\n",
    "        lyric_embedding += line2vec(line)\n",
    "        \n",
    "    lyric_embedding /= len(lyrics)\n",
    "    \n",
    "    lyric_embedding = np.reshape(lyric_embedding, (1, -1))\n",
    "    \n",
    "    lyrics_embeddings = np.concatenate((lyrics_embeddings, lyric_embedding), axis=0)\n",
    "    \n",
    "lyrics_embeddings = np.delete(lyrics_embeddings, [0], axis=0)\n",
    "\n",
    "np.save(\"updated_embeddings.npy\",lyrics_embeddings)"
   ]
  },
  {
   "cell_type": "markdown",
   "metadata": {},
   "source": [
    "After preprocessing both the lyrics and the genres, we can move onto our analysis techniques."
   ]
  },
  {
   "cell_type": "code",
   "execution_count": 10,
   "metadata": {},
   "outputs": [],
   "source": [
    "from collections import Counter"
   ]
  },
  {
   "cell_type": "markdown",
   "metadata": {},
   "source": [
    "## Genre Classification\n",
    "\n",
    "We use the ge"
   ]
  },
  {
   "cell_type": "code",
   "execution_count": 4,
   "metadata": {},
   "outputs": [],
   "source": [
    "embeddings = np.load(\"updated_embeddings.npy\")"
   ]
  },
  {
   "cell_type": "code",
   "execution_count": 5,
   "metadata": {},
   "outputs": [
    {
     "data": {
      "text/plain": [
       "(5250, 300)"
      ]
     },
     "execution_count": 5,
     "metadata": {},
     "output_type": "execute_result"
    }
   ],
   "source": [
    "embeddings.shape"
   ]
  },
  {
   "cell_type": "code",
   "execution_count": 6,
   "metadata": {},
   "outputs": [],
   "source": [
    "labels = []\n",
    "label_to_names = {}\n",
    "with open(\"updated_song_map.csv\",\"r\") as sm:\n",
    "    reader = csv.DictReader(sm,delimiter=\",\")\n",
    "    for row in reader:\n",
    "        genre = row[\"genre_temp\"]\n",
    "        val = row[\"genre_map\"]\n",
    "        labels.append(val)\n",
    "        label_to_names[val] = genre"
   ]
  },
  {
   "cell_type": "code",
   "execution_count": 7,
   "metadata": {},
   "outputs": [
    {
     "data": {
      "text/plain": [
       "{'0': 'Pop',\n",
       " '5': 'Rock',\n",
       " '2': 'Folk, World, & Country',\n",
       " '3': 'Electronic',\n",
       " '1': 'Hip Hop',\n",
       " '4': 'Funk / Soul'}"
      ]
     },
     "execution_count": 7,
     "metadata": {},
     "output_type": "execute_result"
    }
   ],
   "source": [
    "label_to_names"
   ]
  },
  {
   "cell_type": "code",
   "execution_count": 8,
   "metadata": {},
   "outputs": [
    {
     "data": {
      "text/plain": [
       "Counter({'0': 1133, '5': 924, '2': 963, '3': 742, '1': 943, '4': 545})"
      ]
     },
     "execution_count": 8,
     "metadata": {},
     "output_type": "execute_result"
    }
   ],
   "source": [
    "Counter(labels)"
   ]
  },
  {
   "cell_type": "code",
   "execution_count": 9,
   "metadata": {},
   "outputs": [
    {
     "data": {
      "text/plain": [
       "5250"
      ]
     },
     "execution_count": 9,
     "metadata": {},
     "output_type": "execute_result"
    }
   ],
   "source": [
    "len(labels)"
   ]
  },
  {
   "cell_type": "markdown",
   "metadata": {},
   "source": [
    "## Clean the data and train/test split\n",
    "\n",
    "Some of the values in the embedding is nan or missing. These are replaced by mean values of that particular column"
   ]
  },
  {
   "cell_type": "code",
   "execution_count": 10,
   "metadata": {},
   "outputs": [],
   "source": [
    "import matplotlib.pyplot as plt\n"
   ]
  },
  {
   "cell_type": "code",
   "execution_count": 12,
   "metadata": {},
   "outputs": [],
   "source": [
    "from sklearn.impute import SimpleImputer\n",
    "imp_mean = SimpleImputer()\n",
    "imp_mean.fit(embeddings)\n",
    "embeddings = imp_mean.transform(embeddings)"
   ]
  },
  {
   "cell_type": "code",
   "execution_count": 13,
   "metadata": {},
   "outputs": [],
   "source": [
    "from sklearn.model_selection import train_test_split\n",
    "train_img, test_img, train_lbl, test_lbl = train_test_split(\n",
    "    embeddings, labels, test_size=0.1, random_state=13)"
   ]
  },
  {
   "cell_type": "code",
   "execution_count": 14,
   "metadata": {},
   "outputs": [
    {
     "data": {
      "text/plain": [
       "((4725, 300), (525, 300))"
      ]
     },
     "execution_count": 14,
     "metadata": {},
     "output_type": "execute_result"
    }
   ],
   "source": [
    "train_img.shape,test_img.shape"
   ]
  },
  {
   "cell_type": "code",
   "execution_count": null,
   "metadata": {},
   "outputs": [],
   "source": [
    "from sklearn.preprocessing import StandardScaler\n",
    "scaler = StandardScaler()\n",
    "# Fit on training set only.\n",
    "scaler.fit(train_img)\n",
    "# Apply transform to both the training set and the test set.\n",
    "train_img = scaler.transform(train_img)\n",
    "test_img = scaler.transform(test_img)"
   ]
  },
  {
   "cell_type": "markdown",
   "metadata": {},
   "source": [
    "### Comparison of classification techniques\n",
    "\n",
    "We will compare three models for classification.\n",
    "A random classifier for a baseline.\n",
    "\n",
    "Logistic regression in a multinomial setting\n",
    "\n",
    "Linear SVM with a multinomial setting"
   ]
  },
  {
   "cell_type": "code",
   "execution_count": 16,
   "metadata": {},
   "outputs": [
    {
     "data": {
      "text/plain": [
       "LogisticRegression(C=100000.0, class_weight=None, dual=False,\n",
       "                   fit_intercept=True, intercept_scaling=1, l1_ratio=None,\n",
       "                   max_iter=10000, multi_class='multinomial', n_jobs=None,\n",
       "                   penalty='l2', random_state=None, solver='lbfgs', tol=0.0001,\n",
       "                   verbose=0, warm_start=False)"
      ]
     },
     "execution_count": 16,
     "metadata": {},
     "output_type": "execute_result"
    }
   ],
   "source": [
    "from sklearn.linear_model import LogisticRegression\n",
    "logreg = LogisticRegression(C=1e5,solver='lbfgs',multi_class=\"multinomial\",max_iter=10000)\n",
    "logreg.fit(train_img, train_lbl)"
   ]
  },
  {
   "cell_type": "code",
   "execution_count": 18,
   "metadata": {},
   "outputs": [
    {
     "name": "stdout",
     "output_type": "stream",
     "text": [
      "Misclassified samples: 336\n",
      "Accuracy: 0.36\n",
      "F1_score: 0.32\n"
     ]
    }
   ],
   "source": [
    "from sklearn import metrics\n",
    "# use the model to make predictions with the test data\n",
    "y_pred = logreg.predict(test_img)\n",
    "# how did our model perform?\n",
    "count_misclassified = (test_lbl != y_pred).sum()\n",
    "print('Misclassified samples: {}'.format(count_misclassified))\n",
    "accuracy = metrics.accuracy_score(test_lbl, y_pred)\n",
    "print('Accuracy: {:.2f}'.format(accuracy))\n",
    "F1_score = metrics.f1_score(test_lbl, y_pred,average=\"macro\")\n",
    "print('F1_score: {:.2f}'.format(F1_score))"
   ]
  },
  {
   "cell_type": "code",
   "execution_count": 21,
   "metadata": {},
   "outputs": [
    {
     "data": {
      "text/plain": [
       "LinearSVC(C=1.0, class_weight=None, dual=True, fit_intercept=True,\n",
       "          intercept_scaling=1, loss='squared_hinge', max_iter=10000,\n",
       "          multi_class='ovr', penalty='l2', random_state=0, tol=1e-05,\n",
       "          verbose=0)"
      ]
     },
     "execution_count": 21,
     "metadata": {},
     "output_type": "execute_result"
    }
   ],
   "source": [
    "from sklearn.svm import LinearSVC\n",
    "clf = LinearSVC(random_state=0, tol=1e-5,multi_class=\"ovr\",max_iter=10000)\n",
    "clf.fit(train_img,train_lbl)"
   ]
  },
  {
   "cell_type": "code",
   "execution_count": 22,
   "metadata": {},
   "outputs": [
    {
     "name": "stdout",
     "output_type": "stream",
     "text": [
      "Misclassified samples: 327\n",
      "Accuracy: 0.38\n",
      "F1_score: 0.33\n"
     ]
    }
   ],
   "source": [
    "y_pred = clf.predict(test_img)\n",
    "# how did our model perform?\n",
    "count_misclassified = (test_lbl != y_pred).sum()\n",
    "print('Misclassified samples: {}'.format(count_misclassified))\n",
    "accuracy = metrics.accuracy_score(test_lbl, y_pred)\n",
    "print('Accuracy: {:.2f}'.format(accuracy))\n",
    "F1_score = metrics.f1_score(test_lbl, y_pred,average=\"macro\")\n",
    "print('F1_score: {:.2f}'.format(F1_score))"
   ]
  },
  {
   "cell_type": "code",
   "execution_count": 24,
   "metadata": {},
   "outputs": [],
   "source": [
    "from sklearn.dummy import DummyClassifier\n",
    "dummy_clf = DummyClassifier(strategy=\"uniform\")"
   ]
  },
  {
   "cell_type": "code",
   "execution_count": 25,
   "metadata": {},
   "outputs": [
    {
     "name": "stdout",
     "output_type": "stream",
     "text": [
      "Misclassified samples: 390\n",
      "Accuracy: 0.26\n",
      "F1_score: 0.23\n"
     ]
    }
   ],
   "source": [
    "dummy_clf.fit(train_img,train_lbl)\n",
    "y_pred = dt.predict(test_img)\n",
    "# how did our model perform?\n",
    "count_misclassified = (test_lbl != y_pred).sum()\n",
    "print('Misclassified samples: {}'.format(count_misclassified))\n",
    "accuracy = metrics.accuracy_score(test_lbl, y_pred)\n",
    "print('Accuracy: {:.2f}'.format(accuracy))\n",
    "F1_score = metrics.f1_score(test_lbl, y_pred,average=\"macro\")\n",
    "print('F1_score: {:.2f}'.format(F1_score))"
   ]
  },
  {
   "cell_type": "code",
   "execution_count": null,
   "metadata": {},
   "outputs": [],
   "source": []
  }
 ],
 "metadata": {
  "kernelspec": {
   "display_name": "Python 3",
   "language": "python",
   "name": "python3"
  },
  "language_info": {
   "codemirror_mode": {
    "name": "ipython",
    "version": 3
   },
   "file_extension": ".py",
   "mimetype": "text/x-python",
   "name": "python",
   "nbconvert_exporter": "python",
   "pygments_lexer": "ipython3",
   "version": "3.7.4"
  }
 },
 "nbformat": 4,
 "nbformat_minor": 2
}

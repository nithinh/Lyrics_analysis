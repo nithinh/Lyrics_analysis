{
 "cells": [
  {
   "cell_type": "code",
   "execution_count": 1,
   "metadata": {},
   "outputs": [],
   "source": [
    "import json\n",
    "import pandas as pd\n",
    "import re\n",
    "import numpy as np"
   ]
  },
  {
   "cell_type": "code",
   "execution_count": null,
   "metadata": {},
   "outputs": [],
   "source": [
    "import gensim\n",
    "from gensim.models.fasttext import FastText\n",
    "import nltk\n",
    "from nltk.corpus import stopwords\n",
    "from nltk.tokenize import word_tokenize\n",
    "from nltk.stem import WordNetLemmatizer\n",
    "from nltk.tokenize import sent_tokenize\n",
    "from nltk import WordPunctTokenizer"
   ]
  },
  {
   "cell_type": "markdown",
   "metadata": {},
   "source": [
    "## Preprocessing"
   ]
  },
  {
   "cell_type": "markdown",
   "metadata": {},
   "source": [
    "### General Preprocessing"
   ]
  },
  {
   "cell_type": "markdown",
   "metadata": {},
   "source": [
    "After we have finished scraping lyrics from the given song titles, we have ourselves a JSON file containing song titles, with some lyrics and genres. We sift through the JSON first to create a DataFrame of all songs which actually have lyrics to work work with, given the capriciousness of HTTP scraping:"
   ]
  },
  {
   "cell_type": "code",
   "execution_count": 27,
   "metadata": {},
   "outputs": [
    {
     "data": {
      "text/html": [
       "<div>\n",
       "<style scoped>\n",
       "    .dataframe tbody tr th:only-of-type {\n",
       "        vertical-align: middle;\n",
       "    }\n",
       "\n",
       "    .dataframe tbody tr th {\n",
       "        vertical-align: top;\n",
       "    }\n",
       "\n",
       "    .dataframe thead th {\n",
       "        text-align: right;\n",
       "    }\n",
       "</style>\n",
       "<table border=\"1\" class=\"dataframe\">\n",
       "  <thead>\n",
       "    <tr style=\"text-align: right;\">\n",
       "      <th></th>\n",
       "      <th>songs</th>\n",
       "      <th>lyrics</th>\n",
       "    </tr>\n",
       "  </thead>\n",
       "  <tbody>\n",
       "    <tr>\n",
       "      <th>0</th>\n",
       "      <td>Someone You Loved</td>\n",
       "      <td>[I'm going under and this time I fear there's ...</td>\n",
       "    </tr>\n",
       "    <tr>\n",
       "      <th>1</th>\n",
       "      <td>Circles</td>\n",
       "      <td>[Oh, oh, oh, Oh, oh, oh, Oh, oh, oh, Oh, oh, ,...</td>\n",
       "    </tr>\n",
       "    <tr>\n",
       "      <th>2</th>\n",
       "      <td>Good as Hell [Two Stacks Remix]</td>\n",
       "      <td>[I do my hair toss, Check my nails, Baby how y...</td>\n",
       "    </tr>\n",
       "    <tr>\n",
       "      <th>3</th>\n",
       "      <td>Truth Hurts</td>\n",
       "      <td>[Why men great 'til they gotta be great?, Woo,...</td>\n",
       "    </tr>\n",
       "    <tr>\n",
       "      <th>4</th>\n",
       "      <td>Lose You to Love Me</td>\n",
       "      <td>[You promised the world and I fell for it, I p...</td>\n",
       "    </tr>\n",
       "  </tbody>\n",
       "</table>\n",
       "</div>"
      ],
      "text/plain": [
       "                             songs  \\\n",
       "0                Someone You Loved   \n",
       "1                          Circles   \n",
       "2  Good as Hell [Two Stacks Remix]   \n",
       "3                      Truth Hurts   \n",
       "4              Lose You to Love Me   \n",
       "\n",
       "                                              lyrics  \n",
       "0  [I'm going under and this time I fear there's ...  \n",
       "1  [Oh, oh, oh, Oh, oh, oh, Oh, oh, oh, Oh, oh, ,...  \n",
       "2  [I do my hair toss, Check my nails, Baby how y...  \n",
       "3  [Why men great 'til they gotta be great?, Woo,...  \n",
       "4  [You promised the world and I fell for it, I p...  "
      ]
     },
     "execution_count": 27,
     "metadata": {},
     "output_type": "execute_result"
    }
   ],
   "source": [
    "#songs is the name of the json file containing lyrics\n",
    "with open (\"songs.json\", 'r') as f:\n",
    "    songs = json.load(f)\n",
    "\n",
    "titles = []\n",
    "lyrics = []\n",
    "\n",
    "for i in range(len(songs)):\n",
    "    try:\n",
    "        titles.append(songs[i]['title'])\n",
    "        lyrics.append(songs[i]['lyrics'])\n",
    "    except TypeError:\n",
    "        continue\n",
    "    except KeyError:\n",
    "        continue\n",
    "\n",
    "df = pd.DataFrame({'songs' : titles, 'lyrics' : lyrics})\n",
    "df.head()"
   ]
  },
  {
   "cell_type": "markdown",
   "metadata": {},
   "source": [
    "We use the available genres, as well as the additional genre scraping, to compile a DataFrame containing all songs with both lyrics and genres.\n",
    "\n",
    "The first thing to do is to create a dictionary mapping each song to its genre, and then use that map to attribute each song with a genre, with \"Not Found\" being the placeholder in the failure case:"
   ]
  },
  {
   "cell_type": "code",
   "execution_count": 28,
   "metadata": {},
   "outputs": [
    {
     "data": {
      "text/html": [
       "<div>\n",
       "<style scoped>\n",
       "    .dataframe tbody tr th:only-of-type {\n",
       "        vertical-align: middle;\n",
       "    }\n",
       "\n",
       "    .dataframe tbody tr th {\n",
       "        vertical-align: top;\n",
       "    }\n",
       "\n",
       "    .dataframe thead th {\n",
       "        text-align: right;\n",
       "    }\n",
       "</style>\n",
       "<table border=\"1\" class=\"dataframe\">\n",
       "  <thead>\n",
       "    <tr style=\"text-align: right;\">\n",
       "      <th></th>\n",
       "      <th>songs</th>\n",
       "      <th>lyrics</th>\n",
       "      <th>genre</th>\n",
       "    </tr>\n",
       "  </thead>\n",
       "  <tbody>\n",
       "    <tr>\n",
       "      <th>0</th>\n",
       "      <td>Someone You Loved</td>\n",
       "      <td>[I'm going under and this time I fear there's ...</td>\n",
       "      <td>Pop</td>\n",
       "    </tr>\n",
       "    <tr>\n",
       "      <th>1</th>\n",
       "      <td>Circles</td>\n",
       "      <td>[Oh, oh, oh, Oh, oh, oh, Oh, oh, oh, Oh, oh, ,...</td>\n",
       "      <td>Not Found</td>\n",
       "    </tr>\n",
       "    <tr>\n",
       "      <th>2</th>\n",
       "      <td>Good as Hell [Two Stacks Remix]</td>\n",
       "      <td>[I do my hair toss, Check my nails, Baby how y...</td>\n",
       "      <td>Not Found</td>\n",
       "    </tr>\n",
       "    <tr>\n",
       "      <th>3</th>\n",
       "      <td>Truth Hurts</td>\n",
       "      <td>[Why men great 'til they gotta be great?, Woo,...</td>\n",
       "      <td>Not Found</td>\n",
       "    </tr>\n",
       "    <tr>\n",
       "      <th>4</th>\n",
       "      <td>Lose You to Love Me</td>\n",
       "      <td>[You promised the world and I fell for it, I p...</td>\n",
       "      <td>Not Found</td>\n",
       "    </tr>\n",
       "  </tbody>\n",
       "</table>\n",
       "</div>"
      ],
      "text/plain": [
       "                             songs  \\\n",
       "0                Someone You Loved   \n",
       "1                          Circles   \n",
       "2  Good as Hell [Two Stacks Remix]   \n",
       "3                      Truth Hurts   \n",
       "4              Lose You to Love Me   \n",
       "\n",
       "                                              lyrics      genre  \n",
       "0  [I'm going under and this time I fear there's ...        Pop  \n",
       "1  [Oh, oh, oh, Oh, oh, oh, Oh, oh, oh, Oh, oh, ,...  Not Found  \n",
       "2  [I do my hair toss, Check my nails, Baby how y...  Not Found  \n",
       "3  [Why men great 'til they gotta be great?, Woo,...  Not Found  \n",
       "4  [You promised the world and I fell for it, I p...  Not Found  "
      ]
     },
     "execution_count": 28,
     "metadata": {},
     "output_type": "execute_result"
    }
   ],
   "source": [
    "genre_dict = dict()\n",
    "\n",
    "for song in songs:\n",
    "    title = \"\"\n",
    "    genre = \"\"\n",
    "    \n",
    "    try:\n",
    "        title = song['title']\n",
    "    except TypeError:\n",
    "        title = \"\"\n",
    "    except KeyError:\n",
    "        title = \"\"\n",
    "        \n",
    "    try:\n",
    "        genre = song['genre']\n",
    "    except TypeError:\n",
    "        genre = 'Not Found'\n",
    "    except KeyError:\n",
    "        genre = 'Not Found'\n",
    "        \n",
    "    genre_dict[title] = genre\n",
    "        \n",
    "def genre_map(title):\n",
    "    return genre_dict[title]\n",
    "\n",
    "df['genre'] = df['songs'].apply(genre_map)\n",
    "df.head()"
   ]
  },
  {
   "cell_type": "markdown",
   "metadata": {},
   "source": [
    "We then load the additional genre scraping file and again use the same technique to correct as many \"Not Found\" cases we can:"
   ]
  },
  {
   "cell_type": "code",
   "execution_count": 29,
   "metadata": {},
   "outputs": [
    {
     "data": {
      "text/html": [
       "<div>\n",
       "<style scoped>\n",
       "    .dataframe tbody tr th:only-of-type {\n",
       "        vertical-align: middle;\n",
       "    }\n",
       "\n",
       "    .dataframe tbody tr th {\n",
       "        vertical-align: top;\n",
       "    }\n",
       "\n",
       "    .dataframe thead th {\n",
       "        text-align: right;\n",
       "    }\n",
       "</style>\n",
       "<table border=\"1\" class=\"dataframe\">\n",
       "  <thead>\n",
       "    <tr style=\"text-align: right;\">\n",
       "      <th></th>\n",
       "      <th>songs</th>\n",
       "      <th>lyrics</th>\n",
       "      <th>genre</th>\n",
       "    </tr>\n",
       "  </thead>\n",
       "  <tbody>\n",
       "    <tr>\n",
       "      <th>0</th>\n",
       "      <td>Someone You Loved</td>\n",
       "      <td>[I'm going under and this time I fear there's ...</td>\n",
       "      <td>Pop</td>\n",
       "    </tr>\n",
       "    <tr>\n",
       "      <th>1</th>\n",
       "      <td>Circles</td>\n",
       "      <td>[Oh, oh, oh, Oh, oh, oh, Oh, oh, oh, Oh, oh, ,...</td>\n",
       "      <td>Alternative</td>\n",
       "    </tr>\n",
       "    <tr>\n",
       "      <th>2</th>\n",
       "      <td>Good as Hell [Two Stacks Remix]</td>\n",
       "      <td>[I do my hair toss, Check my nails, Baby how y...</td>\n",
       "      <td>Dance</td>\n",
       "    </tr>\n",
       "    <tr>\n",
       "      <th>3</th>\n",
       "      <td>Truth Hurts</td>\n",
       "      <td>[Why men great 'til they gotta be great?, Woo,...</td>\n",
       "      <td>Pop</td>\n",
       "    </tr>\n",
       "    <tr>\n",
       "      <th>4</th>\n",
       "      <td>Lose You to Love Me</td>\n",
       "      <td>[You promised the world and I fell for it, I p...</td>\n",
       "      <td>Not Found</td>\n",
       "    </tr>\n",
       "  </tbody>\n",
       "</table>\n",
       "</div>"
      ],
      "text/plain": [
       "                             songs  \\\n",
       "0                Someone You Loved   \n",
       "1                          Circles   \n",
       "2  Good as Hell [Two Stacks Remix]   \n",
       "3                      Truth Hurts   \n",
       "4              Lose You to Love Me   \n",
       "\n",
       "                                              lyrics        genre  \n",
       "0  [I'm going under and this time I fear there's ...          Pop  \n",
       "1  [Oh, oh, oh, Oh, oh, oh, Oh, oh, oh, Oh, oh, ,...  Alternative  \n",
       "2  [I do my hair toss, Check my nails, Baby how y...        Dance  \n",
       "3  [Why men great 'til they gotta be great?, Woo,...          Pop  \n",
       "4  [You promised the world and I fell for it, I p...    Not Found  "
      ]
     },
     "execution_count": 29,
     "metadata": {},
     "output_type": "execute_result"
    }
   ],
   "source": [
    "song_genres = ''\n",
    "with open (\"songs_genres.json\", 'r') as f:\n",
    "    songs_genres = json.load(f)\n",
    "    \n",
    "new_genre_dict = dict()\n",
    "    \n",
    "for song in songs_genres:\n",
    "    title = \"\"\n",
    "    genre = \"\"\n",
    "    \n",
    "    try:\n",
    "        title = song['title']\n",
    "    except TypeError:\n",
    "        title = \"\"\n",
    "    except KeyError:\n",
    "        title = \"\"\n",
    "        \n",
    "    try:\n",
    "        genre = song['genre']\n",
    "    except TypeError:\n",
    "        genre = 'Not Found'\n",
    "    except KeyError:\n",
    "        genre = 'Not Found'\n",
    "        \n",
    "    new_genre_dict[title] = genre\n",
    "        \n",
    "def new_genre_map(title):\n",
    "    if genre_dict[title] == 'Not Found':\n",
    "        return new_genre_dict[title]\n",
    "    return genre_dict[title]\n",
    "\n",
    "df['genre'] = df['songs'].apply(new_genre_map)\n",
    "df.head()"
   ]
  },
  {
   "cell_type": "markdown",
   "metadata": {},
   "source": [
    "The final general preprocessing step is to filter out all remainig \"Not Found\" cases:"
   ]
  },
  {
   "cell_type": "code",
   "execution_count": 30,
   "metadata": {},
   "outputs": [
    {
     "data": {
      "text/html": [
       "<div>\n",
       "<style scoped>\n",
       "    .dataframe tbody tr th:only-of-type {\n",
       "        vertical-align: middle;\n",
       "    }\n",
       "\n",
       "    .dataframe tbody tr th {\n",
       "        vertical-align: top;\n",
       "    }\n",
       "\n",
       "    .dataframe thead th {\n",
       "        text-align: right;\n",
       "    }\n",
       "</style>\n",
       "<table border=\"1\" class=\"dataframe\">\n",
       "  <thead>\n",
       "    <tr style=\"text-align: right;\">\n",
       "      <th></th>\n",
       "      <th>songs</th>\n",
       "      <th>lyrics</th>\n",
       "      <th>genre</th>\n",
       "    </tr>\n",
       "  </thead>\n",
       "  <tbody>\n",
       "    <tr>\n",
       "      <th>0</th>\n",
       "      <td>Someone You Loved</td>\n",
       "      <td>[I'm going under and this time I fear there's ...</td>\n",
       "      <td>Pop</td>\n",
       "    </tr>\n",
       "    <tr>\n",
       "      <th>1</th>\n",
       "      <td>Circles</td>\n",
       "      <td>[Oh, oh, oh, Oh, oh, oh, Oh, oh, oh, Oh, oh, ,...</td>\n",
       "      <td>Alternative</td>\n",
       "    </tr>\n",
       "    <tr>\n",
       "      <th>2</th>\n",
       "      <td>Good as Hell [Two Stacks Remix]</td>\n",
       "      <td>[I do my hair toss, Check my nails, Baby how y...</td>\n",
       "      <td>Dance</td>\n",
       "    </tr>\n",
       "    <tr>\n",
       "      <th>3</th>\n",
       "      <td>Truth Hurts</td>\n",
       "      <td>[Why men great 'til they gotta be great?, Woo,...</td>\n",
       "      <td>Pop</td>\n",
       "    </tr>\n",
       "    <tr>\n",
       "      <th>5</th>\n",
       "      <td>Panini</td>\n",
       "      <td>[Daytrip took it to 10 (hey), , Ayy, Panini, d...</td>\n",
       "      <td>Alternative</td>\n",
       "    </tr>\n",
       "  </tbody>\n",
       "</table>\n",
       "</div>"
      ],
      "text/plain": [
       "                             songs  \\\n",
       "0                Someone You Loved   \n",
       "1                          Circles   \n",
       "2  Good as Hell [Two Stacks Remix]   \n",
       "3                      Truth Hurts   \n",
       "5                           Panini   \n",
       "\n",
       "                                              lyrics        genre  \n",
       "0  [I'm going under and this time I fear there's ...          Pop  \n",
       "1  [Oh, oh, oh, Oh, oh, oh, Oh, oh, oh, Oh, oh, ,...  Alternative  \n",
       "2  [I do my hair toss, Check my nails, Baby how y...        Dance  \n",
       "3  [Why men great 'til they gotta be great?, Woo,...          Pop  \n",
       "5  [Daytrip took it to 10 (hey), , Ayy, Panini, d...  Alternative  "
      ]
     },
     "execution_count": 30,
     "metadata": {},
     "output_type": "execute_result"
    }
   ],
   "source": [
    "good = df['genre'] != 'Not Found'\n",
    "df = df[good]\n",
    "df.head()"
   ]
  },
  {
   "cell_type": "markdown",
   "metadata": {},
   "source": [
    "### Genre Preprocessing"
   ]
  },
  {
   "cell_type": "markdown",
   "metadata": {},
   "source": [
    "Since the additional genre scraping introduced many more genres, we want to both consolidate the genres we can, and remove genres with few examples. Using our vast knowledge of musical styles, we manually compose a mapping of newly scraped genres into existing genres, if we can: "
   ]
  },
  {
   "cell_type": "code",
   "execution_count": 31,
   "metadata": {},
   "outputs": [],
   "source": [
    "genre_map = dict()\n",
    "\n",
    "genres = dict()\n",
    "for song in songs:\n",
    "    try:\n",
    "        genre = song['genre']\n",
    "    except TypeError:\n",
    "        genre = 'Not Found'\n",
    "    except KeyError:\n",
    "        genre = 'Not Found'\n",
    "        \n",
    "    if not genre == 'Not Found':\n",
    "        genres[genre] = ''\n",
    "        \n",
    "new_genres = dict()\n",
    "for song in songs_genres:\n",
    "    try:\n",
    "        genre = song['genre']\n",
    "    except TypeError:\n",
    "        genre = 'Not Found'\n",
    "    except KeyError:\n",
    "        genre = 'Not Found'\n",
    "        \n",
    "    if not genre == 'Not Found':\n",
    "        new_genres[genre] = ''\n",
    "\n",
    "pop_keys = ['Pop', 'Pop/Rock']\n",
    "hiphop_keys = ['Hip Hop/Rap', 'Hip Hop', 'Alternative Rap', 'Hip-Hop', 'West Coast Rap', 'Gangsta Rap']\n",
    "folk_keys = ['Folk, World, & Country', 'World', 'Traditional Country', 'Contemporary Country', 'Folk-Rock', 'Country']\n",
    "electronic_keys = ['Electronic', 'House']\n",
    "funk_keys = ['R&B/Soul', 'Funk / Soul', 'Soul', 'Funk', 'Disco', 'Contemporary R&B']\n",
    "latin_keys = ['Latin Urban', 'Latin', 'Salsa y Tropical']\n",
    "child_keys = ['Children\\'s']\n",
    "rock_keys = ['Alternative', 'Rock', 'Arena Rock', 'Rock and Roll', 'Punk', 'Soft Rock', 'Rock & Roll']\n",
    "blues_keys = ['Blues']\n",
    "stage_keys = ['Stage & Screen', 'Soundtrack']\n",
    "reggae_keys = ['Reggae', 'Dancehall']\n",
    "jazz_keys = ['Jazz']\n",
    "brass_keys = ['Brass & Military']\n",
    "\n",
    "genres_keys = [key for key in genres.keys()]\n",
    "\n",
    "for key in new_genres.keys():\n",
    "    if key in pop_keys:\n",
    "        genre_map[key] = genres_keys[0]\n",
    "    elif key in hiphop_keys:\n",
    "        genre_map[key] = genres_keys[1]\n",
    "    elif key in folk_keys:\n",
    "        genre_map[key] = genres_keys[2]\n",
    "    elif key in electronic_keys:\n",
    "        genre_map[key] = genres_keys[3]\n",
    "    elif key in funk_keys:\n",
    "        genre_map[key] = genres_keys[4]\n",
    "    elif key in latin_keys:\n",
    "        genre_map[key] = genres_keys[5]\n",
    "    elif key in child_keys:\n",
    "        genre_map[key] = genres_keys[6]\n",
    "    elif key in rock_keys:\n",
    "        genre_map[key] = genres_keys[7]\n",
    "    elif key in blues_keys:\n",
    "        genre_map[key] = genres_keys[8]\n",
    "    elif key in stage_keys:\n",
    "        genre_map[key] = genres_keys[9]\n",
    "    elif key in reggae_keys:\n",
    "        genre_map[key] = genres_keys[10]\n",
    "    elif key in jazz_keys:\n",
    "        genre_map[key] = genres_keys[11]\n",
    "    elif key in brass_keys:\n",
    "        genre_map[key] = genres_keys[12]\n",
    "        \n",
    "    else:\n",
    "        genre_map[key] = key"
   ]
  },
  {
   "cell_type": "markdown",
   "metadata": {},
   "source": [
    "We can then go ahead and update the DataFrame with this consolidation:"
   ]
  },
  {
   "cell_type": "code",
   "execution_count": 32,
   "metadata": {},
   "outputs": [
    {
     "data": {
      "text/html": [
       "<div>\n",
       "<style scoped>\n",
       "    .dataframe tbody tr th:only-of-type {\n",
       "        vertical-align: middle;\n",
       "    }\n",
       "\n",
       "    .dataframe tbody tr th {\n",
       "        vertical-align: top;\n",
       "    }\n",
       "\n",
       "    .dataframe thead th {\n",
       "        text-align: right;\n",
       "    }\n",
       "</style>\n",
       "<table border=\"1\" class=\"dataframe\">\n",
       "  <thead>\n",
       "    <tr style=\"text-align: right;\">\n",
       "      <th></th>\n",
       "      <th>songs</th>\n",
       "      <th>lyrics</th>\n",
       "      <th>genre</th>\n",
       "    </tr>\n",
       "  </thead>\n",
       "  <tbody>\n",
       "    <tr>\n",
       "      <th>0</th>\n",
       "      <td>Someone You Loved</td>\n",
       "      <td>[I'm going under and this time I fear there's ...</td>\n",
       "      <td>Pop</td>\n",
       "    </tr>\n",
       "    <tr>\n",
       "      <th>1</th>\n",
       "      <td>Circles</td>\n",
       "      <td>[Oh, oh, oh, Oh, oh, oh, Oh, oh, oh, Oh, oh, ,...</td>\n",
       "      <td>Rock</td>\n",
       "    </tr>\n",
       "    <tr>\n",
       "      <th>2</th>\n",
       "      <td>Good as Hell [Two Stacks Remix]</td>\n",
       "      <td>[I do my hair toss, Check my nails, Baby how y...</td>\n",
       "      <td>Dance</td>\n",
       "    </tr>\n",
       "    <tr>\n",
       "      <th>3</th>\n",
       "      <td>Truth Hurts</td>\n",
       "      <td>[Why men great 'til they gotta be great?, Woo,...</td>\n",
       "      <td>Pop</td>\n",
       "    </tr>\n",
       "    <tr>\n",
       "      <th>5</th>\n",
       "      <td>Panini</td>\n",
       "      <td>[Daytrip took it to 10 (hey), , Ayy, Panini, d...</td>\n",
       "      <td>Rock</td>\n",
       "    </tr>\n",
       "  </tbody>\n",
       "</table>\n",
       "</div>"
      ],
      "text/plain": [
       "                             songs  \\\n",
       "0                Someone You Loved   \n",
       "1                          Circles   \n",
       "2  Good as Hell [Two Stacks Remix]   \n",
       "3                      Truth Hurts   \n",
       "5                           Panini   \n",
       "\n",
       "                                              lyrics  genre  \n",
       "0  [I'm going under and this time I fear there's ...    Pop  \n",
       "1  [Oh, oh, oh, Oh, oh, oh, Oh, oh, oh, Oh, oh, ,...   Rock  \n",
       "2  [I do my hair toss, Check my nails, Baby how y...  Dance  \n",
       "3  [Why men great 'til they gotta be great?, Woo,...    Pop  \n",
       "5  [Daytrip took it to 10 (hey), , Ayy, Panini, d...   Rock  "
      ]
     },
     "execution_count": 32,
     "metadata": {},
     "output_type": "execute_result"
    }
   ],
   "source": [
    "def genre_consolidation(genre):\n",
    "    return genre_map[genre]\n",
    "\n",
    "df['genre'] = df['genre'].apply(genre_consolidation)\n",
    "df.head()"
   ]
  },
  {
   "cell_type": "markdown",
   "metadata": {},
   "source": [
    "The penultimate genre preprocessing step is to get rid of rare genres. We scan the preprocessed DataFrame to get the total appearance of each consolidated genre:"
   ]
  },
  {
   "cell_type": "code",
   "execution_count": 33,
   "metadata": {},
   "outputs": [
    {
     "data": {
      "text/plain": [
       "{'Pop': 1133,\n",
       " 'Rock': 924,\n",
       " 'Dance': 56,\n",
       " 'Folk, World, & Country': 961,\n",
       " 'Electronic': 740,\n",
       " 'Hip Hop': 943,\n",
       " 'Funk / Soul': 545,\n",
       " 'Latin': 33,\n",
       " \"Children's\": 1,\n",
       " 'Stage & Screen': 6,\n",
       " 'Reggae': 17,\n",
       " 'Blues': 31,\n",
       " 'Christian & Gospel': 5,\n",
       " 'Karaoke': 1,\n",
       " 'Comedy': 1,\n",
       " 'Singer/Songwriter': 4,\n",
       " 'Jazz': 11,\n",
       " 'Brass & Military': 1,\n",
       " 'New Age': 1,\n",
       " 'Vocal': 1}"
      ]
     },
     "execution_count": 33,
     "metadata": {},
     "output_type": "execute_result"
    }
   ],
   "source": [
    "genre_total = dict()\n",
    "\n",
    "for index, row in df.iterrows():\n",
    "    genre = row['genre']\n",
    "    if genre not in genre_total:\n",
    "        genre_total[genre] = 1\n",
    "    else:\n",
    "        genre_total[genre] += 1\n",
    "        \n",
    "genre_total"
   ]
  },
  {
   "cell_type": "markdown",
   "metadata": {},
   "source": [
    "From the output, we gauge that the genres with enough examples are those with over 100: Pop, Hip-Hop, Folk/World/Country, Electronic, Funk/Soul, and Rock. We then further filter the DataFrame to get rid of songs with rare genres:"
   ]
  },
  {
   "cell_type": "code",
   "execution_count": 35,
   "metadata": {},
   "outputs": [
    {
     "data": {
      "text/html": [
       "<div>\n",
       "<style scoped>\n",
       "    .dataframe tbody tr th:only-of-type {\n",
       "        vertical-align: middle;\n",
       "    }\n",
       "\n",
       "    .dataframe tbody tr th {\n",
       "        vertical-align: top;\n",
       "    }\n",
       "\n",
       "    .dataframe thead th {\n",
       "        text-align: right;\n",
       "    }\n",
       "</style>\n",
       "<table border=\"1\" class=\"dataframe\">\n",
       "  <thead>\n",
       "    <tr style=\"text-align: right;\">\n",
       "      <th></th>\n",
       "      <th>songs</th>\n",
       "      <th>lyrics</th>\n",
       "      <th>genre</th>\n",
       "    </tr>\n",
       "  </thead>\n",
       "  <tbody>\n",
       "    <tr>\n",
       "      <th>0</th>\n",
       "      <td>Someone You Loved</td>\n",
       "      <td>[I'm going under and this time I fear there's ...</td>\n",
       "      <td>Pop</td>\n",
       "    </tr>\n",
       "    <tr>\n",
       "      <th>1</th>\n",
       "      <td>Circles</td>\n",
       "      <td>[Oh, oh, oh, Oh, oh, oh, Oh, oh, oh, Oh, oh, ,...</td>\n",
       "      <td>Rock</td>\n",
       "    </tr>\n",
       "    <tr>\n",
       "      <th>3</th>\n",
       "      <td>Truth Hurts</td>\n",
       "      <td>[Why men great 'til they gotta be great?, Woo,...</td>\n",
       "      <td>Pop</td>\n",
       "    </tr>\n",
       "    <tr>\n",
       "      <th>5</th>\n",
       "      <td>Panini</td>\n",
       "      <td>[Daytrip took it to 10 (hey), , Ayy, Panini, d...</td>\n",
       "      <td>Rock</td>\n",
       "    </tr>\n",
       "    <tr>\n",
       "      <th>7</th>\n",
       "      <td>Even Though I'm Leaving</td>\n",
       "      <td>[Daddy, I'm afraid, won't you stay a little wh...</td>\n",
       "      <td>Folk, World, &amp; Country</td>\n",
       "    </tr>\n",
       "  </tbody>\n",
       "</table>\n",
       "</div>"
      ],
      "text/plain": [
       "                     songs                                             lyrics  \\\n",
       "0        Someone You Loved  [I'm going under and this time I fear there's ...   \n",
       "1                  Circles  [Oh, oh, oh, Oh, oh, oh, Oh, oh, oh, Oh, oh, ,...   \n",
       "3              Truth Hurts  [Why men great 'til they gotta be great?, Woo,...   \n",
       "5                   Panini  [Daytrip took it to 10 (hey), , Ayy, Panini, d...   \n",
       "7  Even Though I'm Leaving  [Daddy, I'm afraid, won't you stay a little wh...   \n",
       "\n",
       "                    genre  \n",
       "0                     Pop  \n",
       "1                    Rock  \n",
       "3                     Pop  \n",
       "5                    Rock  \n",
       "7  Folk, World, & Country  "
      ]
     },
     "execution_count": 35,
     "metadata": {},
     "output_type": "execute_result"
    }
   ],
   "source": [
    "def remove_genres(genre):\n",
    "    new_genre = genre\n",
    "            \n",
    "    if genre_total[new_genre] < 100:\n",
    "        new_genre = 'Rare'\n",
    "            \n",
    "    return new_genre\n",
    "\n",
    "df['genre'] = df['genre'].apply(remove_genres)\n",
    "\n",
    "good = df['genre'] != 'Rare'\n",
    "df = df[good]\n",
    "df.head()"
   ]
  },
  {
   "cell_type": "markdown",
   "metadata": {},
   "source": [
    "The last step is to create a mapping for each final genre to an integer, which we save as a CSV file:"
   ]
  },
  {
   "cell_type": "code",
   "execution_count": 39,
   "metadata": {},
   "outputs": [],
   "source": [
    "final_genres = ['Pop', 'Hip-Hop', 'Folk, World & Country', 'Electronic', 'Funk / Soul', 'Rock']\n",
    "indices = [i for i in range(6)]\n",
    "\n",
    "map_df = pd.DataFrame({'genre' : final_genres, 'indices' : indices})\n",
    "map_df.to_csv('genre2int.csv')"
   ]
  },
  {
   "cell_type": "markdown",
   "metadata": {},
   "source": [
    "### Lyrics Preprocessing"
   ]
  },
  {
   "cell_type": "markdown",
   "metadata": {},
   "source": [
    "We can then move onto preprocessing the lyrics, which is a list of lines for each song. We start by applying the usual techniques to each line, which include casing, removing symbols, removing stop words, and lemmatizing, during which we divide the line into a list of words. We finish by then preprocessing all lines for each lyric, and then preprocessing all available lyrics."
   ]
  },
  {
   "cell_type": "markdown",
   "metadata": {},
   "source": [
    "Below are the functions for preprocessing each line and each lyric respectively:"
   ]
  },
  {
   "cell_type": "code",
   "execution_count": null,
   "metadata": {},
   "outputs": [],
   "source": [
    "stemmer = WordNetLemmatizer()\n",
    "en_stop = set(nltk.corpus.stopwords.words('english'))\n",
    "\n",
    "def preprocess(line):  \n",
    "    \n",
    "    line = re.sub(r'\\W', ' ', str(line))\n",
    "    line = re.sub(r'\\s+[a-zA-Z]\\s+', ' ', line)\n",
    "    line = re.sub(r'\\^[a-zA-Z]\\s+', ' ', line)\n",
    "    line = re.sub(r'\\s+', ' ', line, flags=re.I)\n",
    "    \n",
    "    line = line.lower()\n",
    "    \n",
    "    tokens = line.split()    \n",
    "    tokens = [stemmer.lemmatize(word) for word in tokens]\n",
    "    tokens = [word for word in tokens if word not in en_stop]\n",
    "    #tokens = [word for word in tokens if len(word) > 3]\n",
    "    \n",
    "    return tokens\n",
    "    \n",
    "def preprocess_all(lyrics):\n",
    "    ret = []\n",
    "    for line in lyrics:\n",
    "        tokens = preprocess(line)\n",
    "        if not tokens == []:\n",
    "            ret.append(tokens)\n",
    "            \n",
    "    return ret"
   ]
  },
  {
   "cell_type": "markdown",
   "metadata": {},
   "source": [
    "We can then apply the `preprocess_all` function on the `'lyrics'` column of the DataFrame:"
   ]
  },
  {
   "cell_type": "code",
   "execution_count": null,
   "metadata": {},
   "outputs": [],
   "source": [
    "df['preprocessed_lyrics'] = df['lyrics'].apply(preprocess_all)\n",
    "df.head()"
   ]
  },
  {
   "cell_type": "markdown",
   "metadata": {},
   "source": [
    "After we have preprocessed all the lyrics for all available songs, we move on to representation. For this project, we decided to go with word embeddings, specifically Google's pre-trained FastText model, which can be downloaded at the link below:"
   ]
  },
  {
   "cell_type": "markdown",
   "metadata": {},
   "source": [
    "[Fastext Model](https://code.google.com/archive/p/word2vec/)"
   ]
  },
  {
   "cell_type": "markdown",
   "metadata": {},
   "source": [
    "The model, which is about three gigabytes large, was trained on Google News's corpus text, and is a basic pre-trained word embedding models to work with and is widely used throughout all sorts of text preprocessing projects. We have the code below to load the model from the file:"
   ]
  },
  {
   "cell_type": "code",
   "execution_count": null,
   "metadata": {},
   "outputs": [],
   "source": [
    "model = gensim.models.KeyedVectors.load_word2vec_format('GoogleNews-vectors-negative300.bin/GoogleNews-vectors-negative300.bin', binary=True)\n",
    "\n"
   ]
  },
  {
   "cell_type": "markdown",
   "metadata": {},
   "source": [
    "After some time, the model will have been loaded. We can then move on to the word embeddings for each lyric."
   ]
  },
  {
   "cell_type": "markdown",
   "metadata": {},
   "source": [
    "First, regarding preprocessing, we have a few choices. We have that the basic structure of each preprocessed lyric is in the form of a list of lines of the lyrics, with each line being a list of words\n",
    "\n",
    "By default, FastText produces a vector of length 300 for each input word. If we choose to take the route of no pooling whatsoever, our embedding would be a 3-dimensional vector for each lyric, in which each line in the lyric would transformed into a variable length 2-dimensional vector with width 300. Not to mention the padding to account for differences in lengths of lines, and then diferences in number of lines between lyrics, we end up with an inordinate number of features. For regression, we would have to flatten this 3-dimensional vector into a 1-dimensional one, which could have length over 50,000. For linear and logistic regression, this would not only be an inordinate number of features, but could also lead to a long runtime for producing weights.\n",
    "\n",
    "What we can do instead is take the heuristic of keeping everything simple. Instead of a feature size based on the maximum lengths as would be implemented in the above design, to avoid complication and padding, we can keep the final vector length at 300. We can achieve this in a number of techniques, including a max pool of sorts, or some type of mask applied to reduce dimensionality. What we decided to do was to take averages of all words in a line, and take averages of all lines. To be sure, there is likely considerable information loss in using such a technique, but being able to, in some small way, include every single word in the final embedding without compromising simplicity was the motivation for choosing this approach.\n",
    "\n",
    "We have, in the fashion described above, the code below which creates the word embeddings for each line:"
   ]
  },
  {
   "cell_type": "code",
   "execution_count": null,
   "metadata": {},
   "outputs": [],
   "source": [
    "def line2vec(line):\n",
    "    line_embedding = np.zeros(300)\n",
    "    exceptions = 0\n",
    "    for word in line:\n",
    "        #print(model[word].shape)\n",
    "        try:\n",
    "            line_embedding += model[word]\n",
    "        except KeyError:\n",
    "            #print(word)\n",
    "            exceptions += 1\n",
    "    \n",
    "    return line_embedding / (len(line) - exceptions)"
   ]
  },
  {
   "cell_type": "markdown",
   "metadata": {},
   "source": [
    "We then apply the function to transform each lyric into an embedding, and then stack all available embeddings into a 2-dimensional vector, to be saved:"
   ]
  },
  {
   "cell_type": "code",
   "execution_count": null,
   "metadata": {},
   "outputs": [],
   "source": [
    "lyrics_embeddings = np.zeros((1, 300))\n",
    "\n",
    "for index, row in df.iterrows():\n",
    "    lyrics = row['preprocessed_lyrics']\n",
    "    \n",
    "    if index % 500 == 0:\n",
    "        print(index)\n",
    "    \n",
    "    lyric_embedding = np.zeros(300)\n",
    "    for line in lyrics:\n",
    "        lyric_embedding += line2vec(line)\n",
    "        \n",
    "    lyric_embedding /= len(lyrics)\n",
    "    \n",
    "    lyric_embedding = np.reshape(lyric_embedding, (1, -1))\n",
    "    \n",
    "    lyrics_embeddings = np.concatenate((lyrics_embeddings, lyric_embedding), axis=0)\n",
    "    \n",
    "lyrics_embeddings = np.delete(lyrics_embeddings, [0], axis=0)"
   ]
  },
  {
   "cell_type": "markdown",
   "metadata": {},
   "source": [
    "After preprocessing both the lyrics and the genres, we can move onto our analysis techniques."
   ]
  }
 ],
 "metadata": {
  "kernelspec": {
   "display_name": "Python 3",
   "language": "python",
   "name": "python3"
  },
  "language_info": {
   "codemirror_mode": {
    "name": "ipython",
    "version": 3
   },
   "file_extension": ".py",
   "mimetype": "text/x-python",
   "name": "python",
   "nbconvert_exporter": "python",
   "pygments_lexer": "ipython3",
   "version": "3.7.3"
  }
 },
 "nbformat": 4,
 "nbformat_minor": 2
}

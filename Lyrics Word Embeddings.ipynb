{
 "cells": [
  {
   "cell_type": "code",
   "execution_count": 58,
   "metadata": {},
   "outputs": [],
   "source": [
    "import json\n",
    "import gensim\n",
    "from gensim.models.fasttext import FastText\n",
    "import nltk\n",
    "from nltk.corpus import stopwords\n",
    "from nltk.tokenize import word_tokenize\n",
    "from nltk.stem import WordNetLemmatizer\n",
    "from nltk.tokenize import sent_tokenize\n",
    "from nltk import WordPunctTokenizer\n",
    "import pandas as pd\n",
    "import re\n",
    "import numpy as np"
   ]
  },
  {
   "cell_type": "code",
   "execution_count": 2,
   "metadata": {},
   "outputs": [],
   "source": [
    "with open (\"Lyrics_analysis-master\\Lyrics_analysis-master\\songs.json\", 'r') as f:\n",
    "    songs = json.load(f)"
   ]
  },
  {
   "cell_type": "code",
   "execution_count": 77,
   "metadata": {},
   "outputs": [
    {
     "name": "stdout",
     "output_type": "stream",
     "text": [
      "8621\n",
      "{'url': 'https://www.lyrics.com/lyric/35715164/Lewis+Capaldi/Someone+You+Loved', 'lyrics': [\"I'm going under and this time I fear there's no one to save me\", 'This all or nothing really got a way of driving me crazy', 'I need somebody to heal', 'Somebody to know', 'Somebody to have', 'Somebody to hold', \"It's easy to say\", \"But it's never the same\", 'I guess I kinda liked the way you numbed all the pain', '', 'Now the day bleeds', 'Into nightfall', \"And you're not here\", 'To get me through it all', 'I let my guard down', 'And then you pulled the rug', 'I was getting kinda used to being someone you loved', '', \"I'm going under and this time I fear there's no one to turn to\", 'This all or nothing way of loving got me sleeping without you', 'Now, I need somebody to know', 'Somebody to heal', 'Somebody to have', 'Just to know how it feels', \"It's easy to say but it's never the same\", 'I guess I kinda liked the way you helped me escape', '', 'Now the day bleeds', 'Into nightfall', \"And you're not here\", 'To get me through it all', 'I let my guard down', 'And then you pulled the rug', 'I was getting kinda used to being someone you loved', '', 'And I tend to close my eyes when it hurts sometimes', 'I fall into your arms', \"I'll be safe in your sound 'til I come back around\", '', 'For now the day bleeds', 'Into nightfall', \"And you're not here\", 'To get me through it all', 'I let my guard down', 'And then you pulled the rug', 'I was getting kinda used to being someone you loved', '', 'But now the day bleeds', 'Into nightfall', \"And you're not here\", 'To get me through it all', 'I let my guard down', 'And then you pulled the rug', 'I was getting kinda used to being someone you loved', '', 'I let my guard down', 'And then you pulled the rug', 'I was getting kinda used to being someone you loved'], 'artist': 'Lewis Capaldi', 'title': 'Someone You Loved', 'bio': 'Lewis Capaldi is a Scottish singer-songwriter originating from Whitburn, West Lothian more »', 'genre': 'Pop', 'credits': ['Written by: Benjamin Kohn, Lewis Capaldi, Peter Kelleher, Samuel Roman, Tom Barnes', 'Lyrics © BMG Rights Management, Sony/ATV Music Publishing LLC', 'Lyrics Licensed & Provided by LyricFind'], 'year': 2018, 'views': '3,744'}\n"
     ]
    }
   ],
   "source": [
    "'''def max_len(lyrics):\n",
    "    max_len = 0\n",
    "    for i in range(len(lyrics)):\n",
    "        print(lyrics)\n",
    "        if len(lyrics[i]['lyrics']) > max_len:\n",
    "            max_len = len(lyrics[i]['lyrics'])\n",
    "            \n",
    "    return max_len'''\n",
    "\n",
    "print(len(songs))\n",
    "print(songs[0])\n",
    "limit = len(songs)\n",
    "\n",
    "bad = []\n",
    "\n",
    "max_len = 0\n",
    "song = \"\"\n",
    "\n",
    "for i in range(limit):\n",
    "    try:\n",
    "        if len(songs[i]['lyrics']) > max_len:\n",
    "            max_len = len(songs[i]['lyrics'])\n",
    "            song = songs[i]\n",
    "    except TypeError:\n",
    "        bad.append(i)\n",
    "        max_len = max_len\n",
    "    except KeyError:\n",
    "        bad.append(i)\n",
    "        max_len = max_len"
   ]
  },
  {
   "cell_type": "code",
   "execution_count": 79,
   "metadata": {},
   "outputs": [
    {
     "data": {
      "text/html": [
       "<div>\n",
       "<style scoped>\n",
       "    .dataframe tbody tr th:only-of-type {\n",
       "        vertical-align: middle;\n",
       "    }\n",
       "\n",
       "    .dataframe tbody tr th {\n",
       "        vertical-align: top;\n",
       "    }\n",
       "\n",
       "    .dataframe thead th {\n",
       "        text-align: right;\n",
       "    }\n",
       "</style>\n",
       "<table border=\"1\" class=\"dataframe\">\n",
       "  <thead>\n",
       "    <tr style=\"text-align: right;\">\n",
       "      <th></th>\n",
       "      <th>songs</th>\n",
       "      <th>lyrics</th>\n",
       "    </tr>\n",
       "  </thead>\n",
       "  <tbody>\n",
       "    <tr>\n",
       "      <th>0</th>\n",
       "      <td>Someone You Loved</td>\n",
       "      <td>[I'm going under and this time I fear there's ...</td>\n",
       "    </tr>\n",
       "    <tr>\n",
       "      <th>1</th>\n",
       "      <td>Circles</td>\n",
       "      <td>[Oh, oh, oh, Oh, oh, oh, Oh, oh, oh, Oh, oh, ,...</td>\n",
       "    </tr>\n",
       "    <tr>\n",
       "      <th>2</th>\n",
       "      <td>Good as Hell [Two Stacks Remix]</td>\n",
       "      <td>[I do my hair toss, Check my nails, Baby how y...</td>\n",
       "    </tr>\n",
       "    <tr>\n",
       "      <th>3</th>\n",
       "      <td>Truth Hurts</td>\n",
       "      <td>[Why men great 'til they gotta be great?, Woo,...</td>\n",
       "    </tr>\n",
       "    <tr>\n",
       "      <th>4</th>\n",
       "      <td>Lose You to Love Me</td>\n",
       "      <td>[You promised the world and I fell for it, I p...</td>\n",
       "    </tr>\n",
       "  </tbody>\n",
       "</table>\n",
       "</div>"
      ],
      "text/plain": [
       "                             songs  \\\n",
       "0                Someone You Loved   \n",
       "1                          Circles   \n",
       "2  Good as Hell [Two Stacks Remix]   \n",
       "3                      Truth Hurts   \n",
       "4              Lose You to Love Me   \n",
       "\n",
       "                                              lyrics  \n",
       "0  [I'm going under and this time I fear there's ...  \n",
       "1  [Oh, oh, oh, Oh, oh, oh, Oh, oh, oh, Oh, oh, ,...  \n",
       "2  [I do my hair toss, Check my nails, Baby how y...  \n",
       "3  [Why men great 'til they gotta be great?, Woo,...  \n",
       "4  [You promised the world and I fell for it, I p...  "
      ]
     },
     "execution_count": 79,
     "metadata": {},
     "output_type": "execute_result"
    }
   ],
   "source": [
    "titles = []\n",
    "lyrics = []\n",
    "bad2 = []\n",
    "\n",
    "for i in range(limit):\n",
    "    try:\n",
    "        titles.append(songs[i]['title'])\n",
    "        lyrics.append(songs[i]['lyrics'])\n",
    "    except TypeError:\n",
    "        bad2.append(i)\n",
    "    except KeyError:\n",
    "        bad2.append(i)\n",
    "        max_len = max_len\n",
    "        \n",
    "assert(bad2 == bad)\n",
    "\n",
    "df = pd.DataFrame({'songs' : titles, 'lyrics' : lyrics})\n",
    "df.head()"
   ]
  },
  {
   "cell_type": "code",
   "execution_count": 80,
   "metadata": {},
   "outputs": [],
   "source": [
    "stemmer = WordNetLemmatizer()\n",
    "en_stop = set(nltk.corpus.stopwords.words('english'))\n",
    "\n",
    "def preprocess(line):  \n",
    "    \n",
    "    line = re.sub(r'\\W', ' ', str(line))\n",
    "    line = re.sub(r'\\s+[a-zA-Z]\\s+', ' ', line)\n",
    "    line = re.sub(r'\\^[a-zA-Z]\\s+', ' ', line)\n",
    "    line = re.sub(r'\\s+', ' ', line, flags=re.I)\n",
    "    \n",
    "    line = line.lower()\n",
    "    \n",
    "    tokens = line.split()    \n",
    "    tokens = [stemmer.lemmatize(word) for word in tokens]\n",
    "    tokens = [word for word in tokens if word not in en_stop]\n",
    "    #tokens = [word for word in tokens if len(word) > 3]\n",
    "    \n",
    "    return tokens\n",
    "    \n",
    "def preprocess_all(lyrics):\n",
    "    ret = []\n",
    "    for line in lyrics:\n",
    "        tokens = preprocess(line)\n",
    "        if not tokens == []:\n",
    "            ret.append(tokens)\n",
    "            \n",
    "    return ret"
   ]
  },
  {
   "cell_type": "code",
   "execution_count": 81,
   "metadata": {},
   "outputs": [
    {
     "data": {
      "text/html": [
       "<div>\n",
       "<style scoped>\n",
       "    .dataframe tbody tr th:only-of-type {\n",
       "        vertical-align: middle;\n",
       "    }\n",
       "\n",
       "    .dataframe tbody tr th {\n",
       "        vertical-align: top;\n",
       "    }\n",
       "\n",
       "    .dataframe thead th {\n",
       "        text-align: right;\n",
       "    }\n",
       "</style>\n",
       "<table border=\"1\" class=\"dataframe\">\n",
       "  <thead>\n",
       "    <tr style=\"text-align: right;\">\n",
       "      <th></th>\n",
       "      <th>songs</th>\n",
       "      <th>lyrics</th>\n",
       "      <th>preprocessed_lyrics</th>\n",
       "    </tr>\n",
       "  </thead>\n",
       "  <tbody>\n",
       "    <tr>\n",
       "      <th>0</th>\n",
       "      <td>Someone You Loved</td>\n",
       "      <td>[I'm going under and this time I fear there's ...</td>\n",
       "      <td>[[going, time, fear, one, save], [nothing, rea...</td>\n",
       "    </tr>\n",
       "    <tr>\n",
       "      <th>1</th>\n",
       "      <td>Circles</td>\n",
       "      <td>[Oh, oh, oh, Oh, oh, oh, Oh, oh, oh, Oh, oh, ,...</td>\n",
       "      <td>[[oh, oh, oh], [oh, oh, oh], [oh, oh, oh], [oh...</td>\n",
       "    </tr>\n",
       "    <tr>\n",
       "      <th>2</th>\n",
       "      <td>Good as Hell [Two Stacks Remix]</td>\n",
       "      <td>[I do my hair toss, Check my nails, Baby how y...</td>\n",
       "      <td>[[hair, toss], [check, nail], [baby, feelin], ...</td>\n",
       "    </tr>\n",
       "    <tr>\n",
       "      <th>3</th>\n",
       "      <td>Truth Hurts</td>\n",
       "      <td>[Why men great 'til they gotta be great?, Woo,...</td>\n",
       "      <td>[[men, great, til, gotta, great], [woo], [took...</td>\n",
       "    </tr>\n",
       "    <tr>\n",
       "      <th>4</th>\n",
       "      <td>Lose You to Love Me</td>\n",
       "      <td>[You promised the world and I fell for it, I p...</td>\n",
       "      <td>[[promised, world, fell], [put, first, adored]...</td>\n",
       "    </tr>\n",
       "  </tbody>\n",
       "</table>\n",
       "</div>"
      ],
      "text/plain": [
       "                             songs  \\\n",
       "0                Someone You Loved   \n",
       "1                          Circles   \n",
       "2  Good as Hell [Two Stacks Remix]   \n",
       "3                      Truth Hurts   \n",
       "4              Lose You to Love Me   \n",
       "\n",
       "                                              lyrics  \\\n",
       "0  [I'm going under and this time I fear there's ...   \n",
       "1  [Oh, oh, oh, Oh, oh, oh, Oh, oh, oh, Oh, oh, ,...   \n",
       "2  [I do my hair toss, Check my nails, Baby how y...   \n",
       "3  [Why men great 'til they gotta be great?, Woo,...   \n",
       "4  [You promised the world and I fell for it, I p...   \n",
       "\n",
       "                                 preprocessed_lyrics  \n",
       "0  [[going, time, fear, one, save], [nothing, rea...  \n",
       "1  [[oh, oh, oh], [oh, oh, oh], [oh, oh, oh], [oh...  \n",
       "2  [[hair, toss], [check, nail], [baby, feelin], ...  \n",
       "3  [[men, great, til, gotta, great], [woo], [took...  \n",
       "4  [[promised, world, fell], [put, first, adored]...  "
      ]
     },
     "execution_count": 81,
     "metadata": {},
     "output_type": "execute_result"
    }
   ],
   "source": [
    "df['preprocessed_lyrics'] = df['lyrics'].apply(preprocess_all)\n",
    "df.head()"
   ]
  },
  {
   "cell_type": "code",
   "execution_count": 84,
   "metadata": {},
   "outputs": [
    {
     "name": "stdout",
     "output_type": "stream",
     "text": [
      "171\n"
     ]
    }
   ],
   "source": [
    "max_len = 0\n",
    "for index, row in df.iterrows():\n",
    "    lyrics = row['preprocessed_lyrics']\n",
    "    if len(lyrics) > max_len:\n",
    "        max_len = len(lyrics)\n",
    "        \n",
    "print(max_len)"
   ]
  },
  {
   "cell_type": "code",
   "execution_count": 56,
   "metadata": {},
   "outputs": [],
   "source": [
    "embedding_size = 100\n",
    "window_size = 40\n",
    "min_word = 5\n",
    "down_sampling = 1e-2\n",
    "\n",
    "'''ft_model = FastText(size=embedding_size,\n",
    "                      window=window_size,\n",
    "                      min_count=min_word,\n",
    "                      sample=down_sampling,\n",
    "                      sg=0,\n",
    "                      iter=100)'''\n",
    "model = gensim.models.KeyedVectors.load_word2vec_format('GoogleNews-vectors-negative300.bin/GoogleNews-vectors-negative300.bin', binary=True)  "
   ]
  },
  {
   "cell_type": "code",
   "execution_count": 87,
   "metadata": {},
   "outputs": [
    {
     "name": "stdout",
     "output_type": "stream",
     "text": [
      "0\n"
     ]
    },
    {
     "name": "stderr",
     "output_type": "stream",
     "text": [
      "C:\\Users\\jolee\\Anaconda3\\lib\\site-packages\\ipykernel_launcher.py:14: RuntimeWarning: invalid value encountered in true_divide\n",
      "  \n"
     ]
    },
    {
     "name": "stdout",
     "output_type": "stream",
     "text": [
      "500\n",
      "1000\n",
      "1500\n",
      "2000\n",
      "2500\n",
      "3000\n",
      "3500\n",
      "4000\n",
      "4500\n",
      "5000\n",
      "5500\n",
      "6000\n",
      "45\n"
     ]
    }
   ],
   "source": [
    "lyrics_embeddings = np.zeros((1, 300))\n",
    "\n",
    "def line2vec(line):\n",
    "    line_embedding = np.zeros(300)\n",
    "    exceptions = 0\n",
    "    for word in line:\n",
    "        #print(model[word].shape)\n",
    "        try:\n",
    "            line_embedding += model[word]\n",
    "        except KeyError:\n",
    "            #print(word)\n",
    "            exceptions += 1\n",
    "    \n",
    "    return line_embedding / (len(line) - exceptions)\n",
    "\n",
    "for index, row in df.iterrows():\n",
    "    lyrics = row['preprocessed_lyrics']\n",
    "    \n",
    "    if index % 500 == 0:\n",
    "        print(index)\n",
    "    \n",
    "    lyric_embedding = np.zeros(300)\n",
    "    for line in lyrics:\n",
    "        lyric_embedding += line2vec(line)\n",
    "        \n",
    "    lyric_embedding /= len(lyrics)\n",
    "    \n",
    "    lyric_embedding = np.reshape(lyric_embedding, (1, -1))\n",
    "    #print(lyrics_embeddings.shape)\n",
    "    #print(lyric_embedding.shape)\n",
    "    lyrics_embeddings = np.concatenate((lyrics_embeddings, lyric_embedding), axis=0)\n",
    "    \n",
    "print(len(lyrics))\n",
    "lyrics_embeddings = np.delete(lyrics_embeddings, [0], axis=0)"
   ]
  },
  {
   "cell_type": "code",
   "execution_count": 88,
   "metadata": {},
   "outputs": [
    {
     "data": {
      "text/plain": [
       "array([[ 0.07220647,  0.04275346, -0.00998778, ..., -0.05670846,\n",
       "         0.04547378,  0.00211467],\n",
       "       [ 0.03941904,  0.04168566,  0.03906348, ..., -0.08809669,\n",
       "        -0.01064252, -0.01939874],\n",
       "       [ 0.0327902 ,  0.05349441, -0.01711753, ..., -0.02468307,\n",
       "        -0.00638571, -0.00779375],\n",
       "       ...,\n",
       "       [ 0.07453166,  0.02165329, -0.01343231, ..., -0.0873936 ,\n",
       "        -0.01792668, -0.02258577],\n",
       "       [ 0.03994652,  0.03598347,  0.008056  , ..., -0.06673159,\n",
       "         0.03109074, -0.06365595],\n",
       "       [-0.01116084, -0.03000093,  0.04989477, ..., -0.0744406 ,\n",
       "        -0.01147426,  0.01556036]])"
      ]
     },
     "execution_count": 88,
     "metadata": {},
     "output_type": "execute_result"
    }
   ],
   "source": [
    "np.save('embeddings.npy', lyrics_embeddings)\n",
    "lyrics_embeddings"
   ]
  },
  {
   "cell_type": "code",
   "execution_count": 89,
   "metadata": {},
   "outputs": [
    {
     "data": {
      "text/plain": [
       "array([[ 0.07220647,  0.04275346, -0.00998778, ..., -0.05670846,\n",
       "         0.04547378,  0.00211467],\n",
       "       [ 0.03941904,  0.04168566,  0.03906348, ..., -0.08809669,\n",
       "        -0.01064252, -0.01939874],\n",
       "       [ 0.0327902 ,  0.05349441, -0.01711753, ..., -0.02468307,\n",
       "        -0.00638571, -0.00779375],\n",
       "       ...,\n",
       "       [ 0.07453166,  0.02165329, -0.01343231, ..., -0.0873936 ,\n",
       "        -0.01792668, -0.02258577],\n",
       "       [ 0.03994652,  0.03598347,  0.008056  , ..., -0.06673159,\n",
       "         0.03109074, -0.06365595],\n",
       "       [-0.01116084, -0.03000093,  0.04989477, ..., -0.0744406 ,\n",
       "        -0.01147426,  0.01556036]])"
      ]
     },
     "execution_count": 89,
     "metadata": {},
     "output_type": "execute_result"
    }
   ],
   "source": [
    "test = np.load('embeddings.npy')\n",
    "test"
   ]
  },
  {
   "cell_type": "code",
   "execution_count": null,
   "metadata": {},
   "outputs": [],
   "source": []
  }
 ],
 "metadata": {
  "kernelspec": {
   "display_name": "Python 3",
   "language": "python",
   "name": "python3"
  },
  "language_info": {
   "codemirror_mode": {
    "name": "ipython",
    "version": 3
   },
   "file_extension": ".py",
   "mimetype": "text/x-python",
   "name": "python",
   "nbconvert_exporter": "python",
   "pygments_lexer": "ipython3",
   "version": "3.7.3"
  }
 },
 "nbformat": 4,
 "nbformat_minor": 2
}
